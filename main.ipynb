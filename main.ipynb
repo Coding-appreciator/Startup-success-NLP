{
  "cells": [
    {
      "cell_type": "markdown",
      "source": [
        "# **Predicting early-stage companies’ success with supervised contrastive learning for natural language processing**\n",
        "**Context**"
      ],
      "metadata": {
        "id": "EP29Lx_Xn3nt"
      },
      "id": "EP29Lx_Xn3nt"
    },
    {
      "cell_type": "markdown",
      "source": [
        "VCs invest on startups strategically to earn money. To generate maximum return, it is important to invest on startups that are more likely to succeed. Given the unique challenges each startup faces, one could turn for data-driven insights for making investment choices. See more on https://docs.google.com/document/d/11JGDF4zqwt0JD5xsmfNT-JTiVBab2fM5KBiop0PTHSo/edit#"
      ],
      "metadata": {
        "id": "Au6UMURpoZCd"
      },
      "id": "Au6UMURpoZCd"
    },
    {
      "cell_type": "markdown",
      "source": [
        "# **Data Processing**"
      ],
      "metadata": {
        "id": "VZOT8PAFZ3J8"
      },
      "id": "VZOT8PAFZ3J8"
    },
    {
      "cell_type": "code",
      "execution_count": 51,
      "id": "50bda3f4",
      "metadata": {
        "id": "50bda3f4"
      },
      "outputs": [],
      "source": [
        "import numpy as np\n",
        "import pandas as pd\n",
        "import seaborn as sns\n",
        "import matplotlib.pyplot as plt\n",
        "%matplotlib inline\n",
        "import tensorflow as tf\n",
        "import warnings\n",
        "warnings.filterwarnings(\"ignore\")\n",
        "# To get diferent metric scores\n",
        "from sklearn.metrics import confusion_matrix,classification_report,plot_confusion_matrix"
      ]
    },
    {
      "cell_type": "code",
      "source": [
        "from google.colab import drive\n",
        "drive.mount('/content/drive')"
      ],
      "metadata": {
        "id": "dBRCRL-3WHkJ",
        "colab": {
          "base_uri": "https://localhost:8080/"
        },
        "outputId": "f29c3580-d470-4a6a-c077-8bdca52c5cd9"
      },
      "id": "dBRCRL-3WHkJ",
      "execution_count": 52,
      "outputs": [
        {
          "output_type": "stream",
          "name": "stdout",
          "text": [
            "Drive already mounted at /content/drive; to attempt to forcibly remount, call drive.mount(\"/content/drive\", force_remount=True).\n"
          ]
        }
      ]
    },
    {
      "cell_type": "markdown",
      "source": [
        "Loading successful(s for successful) startup dataset"
      ],
      "metadata": {
        "id": "mtMk0lTH2kWq"
      },
      "id": "mtMk0lTH2kWq"
    },
    {
      "cell_type": "code",
      "execution_count": 3,
      "id": "19dcc27c",
      "metadata": {
        "id": "19dcc27c"
      },
      "outputs": [],
      "source": [
        "s = pd.read_excel(\"/content/drive/My Drive/Vela Partners/Datasets/successful.xlsx\", sheet_name = 'Long company descriptions')"
      ]
    },
    {
      "cell_type": "markdown",
      "source": [
        "Focus on long company description, showing the first 10 records of s"
      ],
      "metadata": {
        "id": "YdFrTLjh25Ru"
      },
      "id": "YdFrTLjh25Ru"
    },
    {
      "cell_type": "code",
      "source": [
        "s.head(10)"
      ],
      "metadata": {
        "id": "Wdl2_qFE1Ykx",
        "colab": {
          "base_uri": "https://localhost:8080/",
          "height": 363
        },
        "outputId": "dad1a78e-d20a-4e3f-c8cb-2a3074c14327"
      },
      "id": "Wdl2_qFE1Ykx",
      "execution_count": 4,
      "outputs": [
        {
          "output_type": "execute_result",
          "data": {
            "text/plain": [
              "                    org_name                              org_uuid  \\\n",
              "0                10X Banking  a2323b6c-29b9-4750-905c-cdcbd9ce92b8   \n",
              "1               10X Genomics  cf3b00cf-ffbf-0e4f-6427-a60e5060de39   \n",
              "2                  111, Inc.  0680987f-23cd-4fa5-850c-38326fffaa36   \n",
              "3                    17zuoye  a79a6ae8-3c74-0db7-7e6b-b4f7662d37e8   \n",
              "4                  1Komma5¬∞  1ca6a7b3-465b-443d-9028-388cfd1ad060   \n",
              "5                      1inch  8e5b2628-6d2b-4f0a-9808-07c935156515   \n",
              "6                360Learning  0995a94f-0661-0db6-fcae-cbb89937c945   \n",
              "7               3D Medicines  73588380-c823-48db-9139-31c17b38862b   \n",
              "8  4D Molecular Therapeutics  310235fd-88ee-87dd-d394-b71762ba2431   \n",
              "9                4G Clinical  e94407ea-d3a5-0f75-f3d0-30ab8a43ac44   \n",
              "\n",
              "                                    long_description  \n",
              "0  10x Banking (10x), a financial services techno...  \n",
              "1  10x Genomics is creating revolutionary DNA seq...  \n",
              "2  111,Inc. is a leading digital and mobile healt...  \n",
              "3  17zuoye is an online learning platform for K-1...  \n",
              "4  KOMMA5 ¬∞ offers all owners of electric vehicl...  \n",
              "5  1inch Limited builds decentralized protocols a...  \n",
              "6  360Learning develops a collaborative learning ...  \n",
              "7  3D Medicines, we use individual‚Äôs genetic in...  \n",
              "8  4D Molecular Therapeutics is a biotechnology c...  \n",
              "9  4G Clinical provides software and services for...  "
            ],
            "text/html": [
              "\n",
              "  <div id=\"df-c428887d-49b0-4206-9771-92385315e1bf\">\n",
              "    <div class=\"colab-df-container\">\n",
              "      <div>\n",
              "<style scoped>\n",
              "    .dataframe tbody tr th:only-of-type {\n",
              "        vertical-align: middle;\n",
              "    }\n",
              "\n",
              "    .dataframe tbody tr th {\n",
              "        vertical-align: top;\n",
              "    }\n",
              "\n",
              "    .dataframe thead th {\n",
              "        text-align: right;\n",
              "    }\n",
              "</style>\n",
              "<table border=\"1\" class=\"dataframe\">\n",
              "  <thead>\n",
              "    <tr style=\"text-align: right;\">\n",
              "      <th></th>\n",
              "      <th>org_name</th>\n",
              "      <th>org_uuid</th>\n",
              "      <th>long_description</th>\n",
              "    </tr>\n",
              "  </thead>\n",
              "  <tbody>\n",
              "    <tr>\n",
              "      <th>0</th>\n",
              "      <td>10X Banking</td>\n",
              "      <td>a2323b6c-29b9-4750-905c-cdcbd9ce92b8</td>\n",
              "      <td>10x Banking (10x), a financial services techno...</td>\n",
              "    </tr>\n",
              "    <tr>\n",
              "      <th>1</th>\n",
              "      <td>10X Genomics</td>\n",
              "      <td>cf3b00cf-ffbf-0e4f-6427-a60e5060de39</td>\n",
              "      <td>10x Genomics is creating revolutionary DNA seq...</td>\n",
              "    </tr>\n",
              "    <tr>\n",
              "      <th>2</th>\n",
              "      <td>111, Inc.</td>\n",
              "      <td>0680987f-23cd-4fa5-850c-38326fffaa36</td>\n",
              "      <td>111,Inc. is a leading digital and mobile healt...</td>\n",
              "    </tr>\n",
              "    <tr>\n",
              "      <th>3</th>\n",
              "      <td>17zuoye</td>\n",
              "      <td>a79a6ae8-3c74-0db7-7e6b-b4f7662d37e8</td>\n",
              "      <td>17zuoye is an online learning platform for K-1...</td>\n",
              "    </tr>\n",
              "    <tr>\n",
              "      <th>4</th>\n",
              "      <td>1Komma5¬∞</td>\n",
              "      <td>1ca6a7b3-465b-443d-9028-388cfd1ad060</td>\n",
              "      <td>KOMMA5 ¬∞ offers all owners of electric vehicl...</td>\n",
              "    </tr>\n",
              "    <tr>\n",
              "      <th>5</th>\n",
              "      <td>1inch</td>\n",
              "      <td>8e5b2628-6d2b-4f0a-9808-07c935156515</td>\n",
              "      <td>1inch Limited builds decentralized protocols a...</td>\n",
              "    </tr>\n",
              "    <tr>\n",
              "      <th>6</th>\n",
              "      <td>360Learning</td>\n",
              "      <td>0995a94f-0661-0db6-fcae-cbb89937c945</td>\n",
              "      <td>360Learning develops a collaborative learning ...</td>\n",
              "    </tr>\n",
              "    <tr>\n",
              "      <th>7</th>\n",
              "      <td>3D Medicines</td>\n",
              "      <td>73588380-c823-48db-9139-31c17b38862b</td>\n",
              "      <td>3D Medicines, we use individual‚Äôs genetic in...</td>\n",
              "    </tr>\n",
              "    <tr>\n",
              "      <th>8</th>\n",
              "      <td>4D Molecular Therapeutics</td>\n",
              "      <td>310235fd-88ee-87dd-d394-b71762ba2431</td>\n",
              "      <td>4D Molecular Therapeutics is a biotechnology c...</td>\n",
              "    </tr>\n",
              "    <tr>\n",
              "      <th>9</th>\n",
              "      <td>4G Clinical</td>\n",
              "      <td>e94407ea-d3a5-0f75-f3d0-30ab8a43ac44</td>\n",
              "      <td>4G Clinical provides software and services for...</td>\n",
              "    </tr>\n",
              "  </tbody>\n",
              "</table>\n",
              "</div>\n",
              "      <button class=\"colab-df-convert\" onclick=\"convertToInteractive('df-c428887d-49b0-4206-9771-92385315e1bf')\"\n",
              "              title=\"Convert this dataframe to an interactive table.\"\n",
              "              style=\"display:none;\">\n",
              "        \n",
              "  <svg xmlns=\"http://www.w3.org/2000/svg\" height=\"24px\"viewBox=\"0 0 24 24\"\n",
              "       width=\"24px\">\n",
              "    <path d=\"M0 0h24v24H0V0z\" fill=\"none\"/>\n",
              "    <path d=\"M18.56 5.44l.94 2.06.94-2.06 2.06-.94-2.06-.94-.94-2.06-.94 2.06-2.06.94zm-11 1L8.5 8.5l.94-2.06 2.06-.94-2.06-.94L8.5 2.5l-.94 2.06-2.06.94zm10 10l.94 2.06.94-2.06 2.06-.94-2.06-.94-.94-2.06-.94 2.06-2.06.94z\"/><path d=\"M17.41 7.96l-1.37-1.37c-.4-.4-.92-.59-1.43-.59-.52 0-1.04.2-1.43.59L10.3 9.45l-7.72 7.72c-.78.78-.78 2.05 0 2.83L4 21.41c.39.39.9.59 1.41.59.51 0 1.02-.2 1.41-.59l7.78-7.78 2.81-2.81c.8-.78.8-2.07 0-2.86zM5.41 20L4 18.59l7.72-7.72 1.47 1.35L5.41 20z\"/>\n",
              "  </svg>\n",
              "      </button>\n",
              "      \n",
              "  <style>\n",
              "    .colab-df-container {\n",
              "      display:flex;\n",
              "      flex-wrap:wrap;\n",
              "      gap: 12px;\n",
              "    }\n",
              "\n",
              "    .colab-df-convert {\n",
              "      background-color: #E8F0FE;\n",
              "      border: none;\n",
              "      border-radius: 50%;\n",
              "      cursor: pointer;\n",
              "      display: none;\n",
              "      fill: #1967D2;\n",
              "      height: 32px;\n",
              "      padding: 0 0 0 0;\n",
              "      width: 32px;\n",
              "    }\n",
              "\n",
              "    .colab-df-convert:hover {\n",
              "      background-color: #E2EBFA;\n",
              "      box-shadow: 0px 1px 2px rgba(60, 64, 67, 0.3), 0px 1px 3px 1px rgba(60, 64, 67, 0.15);\n",
              "      fill: #174EA6;\n",
              "    }\n",
              "\n",
              "    [theme=dark] .colab-df-convert {\n",
              "      background-color: #3B4455;\n",
              "      fill: #D2E3FC;\n",
              "    }\n",
              "\n",
              "    [theme=dark] .colab-df-convert:hover {\n",
              "      background-color: #434B5C;\n",
              "      box-shadow: 0px 1px 3px 1px rgba(0, 0, 0, 0.15);\n",
              "      filter: drop-shadow(0px 1px 2px rgba(0, 0, 0, 0.3));\n",
              "      fill: #FFFFFF;\n",
              "    }\n",
              "  </style>\n",
              "\n",
              "      <script>\n",
              "        const buttonEl =\n",
              "          document.querySelector('#df-c428887d-49b0-4206-9771-92385315e1bf button.colab-df-convert');\n",
              "        buttonEl.style.display =\n",
              "          google.colab.kernel.accessAllowed ? 'block' : 'none';\n",
              "\n",
              "        async function convertToInteractive(key) {\n",
              "          const element = document.querySelector('#df-c428887d-49b0-4206-9771-92385315e1bf');\n",
              "          const dataTable =\n",
              "            await google.colab.kernel.invokeFunction('convertToInteractive',\n",
              "                                                     [key], {});\n",
              "          if (!dataTable) return;\n",
              "\n",
              "          const docLinkHtml = 'Like what you see? Visit the ' +\n",
              "            '<a target=\"_blank\" href=https://colab.research.google.com/notebooks/data_table.ipynb>data table notebook</a>'\n",
              "            + ' to learn more about interactive tables.';\n",
              "          element.innerHTML = '';\n",
              "          dataTable['output_type'] = 'display_data';\n",
              "          await google.colab.output.renderOutput(dataTable, element);\n",
              "          const docLink = document.createElement('div');\n",
              "          docLink.innerHTML = docLinkHtml;\n",
              "          element.appendChild(docLink);\n",
              "        }\n",
              "      </script>\n",
              "    </div>\n",
              "  </div>\n",
              "  "
            ]
          },
          "metadata": {},
          "execution_count": 4
        }
      ]
    },
    {
      "cell_type": "code",
      "source": [
        "s[s.duplicated()]"
      ],
      "metadata": {
        "colab": {
          "base_uri": "https://localhost:8080/",
          "height": 49
        },
        "id": "Sd9BdzQ11mg1",
        "outputId": "441aabbd-eb58-41da-c20b-32ddcebe1aa5"
      },
      "id": "Sd9BdzQ11mg1",
      "execution_count": 5,
      "outputs": [
        {
          "output_type": "execute_result",
          "data": {
            "text/plain": [
              "Empty DataFrame\n",
              "Columns: [org_name, org_uuid, long_description]\n",
              "Index: []"
            ],
            "text/html": [
              "\n",
              "  <div id=\"df-3540f979-de90-42fc-905b-0a34f2f40940\">\n",
              "    <div class=\"colab-df-container\">\n",
              "      <div>\n",
              "<style scoped>\n",
              "    .dataframe tbody tr th:only-of-type {\n",
              "        vertical-align: middle;\n",
              "    }\n",
              "\n",
              "    .dataframe tbody tr th {\n",
              "        vertical-align: top;\n",
              "    }\n",
              "\n",
              "    .dataframe thead th {\n",
              "        text-align: right;\n",
              "    }\n",
              "</style>\n",
              "<table border=\"1\" class=\"dataframe\">\n",
              "  <thead>\n",
              "    <tr style=\"text-align: right;\">\n",
              "      <th></th>\n",
              "      <th>org_name</th>\n",
              "      <th>org_uuid</th>\n",
              "      <th>long_description</th>\n",
              "    </tr>\n",
              "  </thead>\n",
              "  <tbody>\n",
              "  </tbody>\n",
              "</table>\n",
              "</div>\n",
              "      <button class=\"colab-df-convert\" onclick=\"convertToInteractive('df-3540f979-de90-42fc-905b-0a34f2f40940')\"\n",
              "              title=\"Convert this dataframe to an interactive table.\"\n",
              "              style=\"display:none;\">\n",
              "        \n",
              "  <svg xmlns=\"http://www.w3.org/2000/svg\" height=\"24px\"viewBox=\"0 0 24 24\"\n",
              "       width=\"24px\">\n",
              "    <path d=\"M0 0h24v24H0V0z\" fill=\"none\"/>\n",
              "    <path d=\"M18.56 5.44l.94 2.06.94-2.06 2.06-.94-2.06-.94-.94-2.06-.94 2.06-2.06.94zm-11 1L8.5 8.5l.94-2.06 2.06-.94-2.06-.94L8.5 2.5l-.94 2.06-2.06.94zm10 10l.94 2.06.94-2.06 2.06-.94-2.06-.94-.94-2.06-.94 2.06-2.06.94z\"/><path d=\"M17.41 7.96l-1.37-1.37c-.4-.4-.92-.59-1.43-.59-.52 0-1.04.2-1.43.59L10.3 9.45l-7.72 7.72c-.78.78-.78 2.05 0 2.83L4 21.41c.39.39.9.59 1.41.59.51 0 1.02-.2 1.41-.59l7.78-7.78 2.81-2.81c.8-.78.8-2.07 0-2.86zM5.41 20L4 18.59l7.72-7.72 1.47 1.35L5.41 20z\"/>\n",
              "  </svg>\n",
              "      </button>\n",
              "      \n",
              "  <style>\n",
              "    .colab-df-container {\n",
              "      display:flex;\n",
              "      flex-wrap:wrap;\n",
              "      gap: 12px;\n",
              "    }\n",
              "\n",
              "    .colab-df-convert {\n",
              "      background-color: #E8F0FE;\n",
              "      border: none;\n",
              "      border-radius: 50%;\n",
              "      cursor: pointer;\n",
              "      display: none;\n",
              "      fill: #1967D2;\n",
              "      height: 32px;\n",
              "      padding: 0 0 0 0;\n",
              "      width: 32px;\n",
              "    }\n",
              "\n",
              "    .colab-df-convert:hover {\n",
              "      background-color: #E2EBFA;\n",
              "      box-shadow: 0px 1px 2px rgba(60, 64, 67, 0.3), 0px 1px 3px 1px rgba(60, 64, 67, 0.15);\n",
              "      fill: #174EA6;\n",
              "    }\n",
              "\n",
              "    [theme=dark] .colab-df-convert {\n",
              "      background-color: #3B4455;\n",
              "      fill: #D2E3FC;\n",
              "    }\n",
              "\n",
              "    [theme=dark] .colab-df-convert:hover {\n",
              "      background-color: #434B5C;\n",
              "      box-shadow: 0px 1px 3px 1px rgba(0, 0, 0, 0.15);\n",
              "      filter: drop-shadow(0px 1px 2px rgba(0, 0, 0, 0.3));\n",
              "      fill: #FFFFFF;\n",
              "    }\n",
              "  </style>\n",
              "\n",
              "      <script>\n",
              "        const buttonEl =\n",
              "          document.querySelector('#df-3540f979-de90-42fc-905b-0a34f2f40940 button.colab-df-convert');\n",
              "        buttonEl.style.display =\n",
              "          google.colab.kernel.accessAllowed ? 'block' : 'none';\n",
              "\n",
              "        async function convertToInteractive(key) {\n",
              "          const element = document.querySelector('#df-3540f979-de90-42fc-905b-0a34f2f40940');\n",
              "          const dataTable =\n",
              "            await google.colab.kernel.invokeFunction('convertToInteractive',\n",
              "                                                     [key], {});\n",
              "          if (!dataTable) return;\n",
              "\n",
              "          const docLinkHtml = 'Like what you see? Visit the ' +\n",
              "            '<a target=\"_blank\" href=https://colab.research.google.com/notebooks/data_table.ipynb>data table notebook</a>'\n",
              "            + ' to learn more about interactive tables.';\n",
              "          element.innerHTML = '';\n",
              "          dataTable['output_type'] = 'display_data';\n",
              "          await google.colab.output.renderOutput(dataTable, element);\n",
              "          const docLink = document.createElement('div');\n",
              "          docLink.innerHTML = docLinkHtml;\n",
              "          element.appendChild(docLink);\n",
              "        }\n",
              "      </script>\n",
              "    </div>\n",
              "  </div>\n",
              "  "
            ]
          },
          "metadata": {},
          "execution_count": 5
        }
      ]
    },
    {
      "cell_type": "markdown",
      "source": [
        "There are no duplicated entries in s_2."
      ],
      "metadata": {
        "id": "-Db0StZ851Dq"
      },
      "id": "-Db0StZ851Dq"
    },
    {
      "cell_type": "code",
      "source": [
        "s.isnull().values.any()"
      ],
      "metadata": {
        "colab": {
          "base_uri": "https://localhost:8080/"
        },
        "id": "g4o0ut7v66kM",
        "outputId": "0f182626-9df2-4d82-d10d-da6c212523c8"
      },
      "id": "g4o0ut7v66kM",
      "execution_count": 6,
      "outputs": [
        {
          "output_type": "execute_result",
          "data": {
            "text/plain": [
              "False"
            ]
          },
          "metadata": {},
          "execution_count": 6
        }
      ]
    },
    {
      "cell_type": "markdown",
      "source": [
        "There are no missing values in s_2"
      ],
      "metadata": {
        "id": "Xjr_PJOh6-bH"
      },
      "id": "Xjr_PJOh6-bH"
    },
    {
      "cell_type": "code",
      "source": [
        "s.shape[0]"
      ],
      "metadata": {
        "colab": {
          "base_uri": "https://localhost:8080/"
        },
        "id": "3CUL8tZQOtmG",
        "outputId": "67d7cafa-b2f9-4d27-ef18-04b2a1a2b25c"
      },
      "id": "3CUL8tZQOtmG",
      "execution_count": 49,
      "outputs": [
        {
          "output_type": "execute_result",
          "data": {
            "text/plain": [
              "2156"
            ]
          },
          "metadata": {},
          "execution_count": 49
        }
      ]
    },
    {
      "cell_type": "markdown",
      "source": [
        "There are 2156 successful entries"
      ],
      "metadata": {
        "id": "b1Iqk91TO3ux"
      },
      "id": "b1Iqk91TO3ux"
    },
    {
      "cell_type": "markdown",
      "source": [
        "Loading unsuccessful(f for fail) startup dataset"
      ],
      "metadata": {
        "id": "rF0ROS4MIsHb"
      },
      "id": "rF0ROS4MIsHb"
    },
    {
      "cell_type": "code",
      "execution_count": 7,
      "id": "18baf286",
      "metadata": {
        "id": "18baf286"
      },
      "outputs": [],
      "source": [
        "f = pd.read_excel(\"/content/drive/My Drive/Vela Partners/Datasets/unsuccessful.xlsx\", sheet_name = 'Long company descriptions')\n"
      ]
    },
    {
      "cell_type": "markdown",
      "source": [
        "The first 10 entries of failed startups long description"
      ],
      "metadata": {
        "id": "NZWGbg0w6TII"
      },
      "id": "NZWGbg0w6TII"
    },
    {
      "cell_type": "code",
      "source": [
        "f.head(10)"
      ],
      "metadata": {
        "colab": {
          "base_uri": "https://localhost:8080/",
          "height": 363
        },
        "id": "3MX01F266P7v",
        "outputId": "f7016180-beba-4945-ae6e-6a8bb8684037"
      },
      "id": "3MX01F266P7v",
      "execution_count": 8,
      "outputs": [
        {
          "output_type": "execute_result",
          "data": {
            "text/plain": [
              "            org_name                              org_uuid  \\\n",
              "0      .Club Domains  477b73e7-f956-955d-06c0-2dc705a7e6de   \n",
              "1             0glass  0ae0c059-31ac-4979-132f-352b31a6d448   \n",
              "2           100offer  0cebce5a-3efc-dd27-5ce6-a42245a79cf9   \n",
              "3            101 Edu  934bd25a-4b91-9d78-12c3-524c679d3e69   \n",
              "4             17hats  c852c5d3-220d-2eb6-c78e-3c9148430ce4   \n",
              "5   1928 Diagnostics  e862bea8-d437-2370-6ccc-b117d5549e51   \n",
              "6         1939 Games  87366b68-8997-b2e3-a601-bb37ee89a1fd   \n",
              "7              1DOC3  474524a8-5ffa-8ef9-a4c9-3effe64e21e0   \n",
              "8  1Drop Diagnostics  df4774f0-cfd6-e0f7-abae-0394e7c658ef   \n",
              "9            1Huddle  51e4aae5-6ad5-e054-317b-7428bffd0870   \n",
              "\n",
              "                                    long_description  \n",
              "0  .Club Domains is a domain extension for the so...  \n",
              "1  0glass is the first high-tech company to apply...  \n",
              "2  100offer is an opportunity marketplace for tal...  \n",
              "3  101 builds mobile-first teaching and assessmen...  \n",
              "4  17hats has become the small business owners ch...  \n",
              "5  1928 Diagnostics is a digital health company, ...  \n",
              "6  1939 Games is a indie game development studio ...  \n",
              "7  1doc3 is a e-health platform that connects 490...  \n",
              "8  1Drop Diagnostics is a cutting edge medical di...  \n",
              "9  Today, companies struggle to onboard, upskill ...  "
            ],
            "text/html": [
              "\n",
              "  <div id=\"df-2ad218fb-33d9-4ce1-9da1-dd55c0dbb7f1\">\n",
              "    <div class=\"colab-df-container\">\n",
              "      <div>\n",
              "<style scoped>\n",
              "    .dataframe tbody tr th:only-of-type {\n",
              "        vertical-align: middle;\n",
              "    }\n",
              "\n",
              "    .dataframe tbody tr th {\n",
              "        vertical-align: top;\n",
              "    }\n",
              "\n",
              "    .dataframe thead th {\n",
              "        text-align: right;\n",
              "    }\n",
              "</style>\n",
              "<table border=\"1\" class=\"dataframe\">\n",
              "  <thead>\n",
              "    <tr style=\"text-align: right;\">\n",
              "      <th></th>\n",
              "      <th>org_name</th>\n",
              "      <th>org_uuid</th>\n",
              "      <th>long_description</th>\n",
              "    </tr>\n",
              "  </thead>\n",
              "  <tbody>\n",
              "    <tr>\n",
              "      <th>0</th>\n",
              "      <td>.Club Domains</td>\n",
              "      <td>477b73e7-f956-955d-06c0-2dc705a7e6de</td>\n",
              "      <td>.Club Domains is a domain extension for the so...</td>\n",
              "    </tr>\n",
              "    <tr>\n",
              "      <th>1</th>\n",
              "      <td>0glass</td>\n",
              "      <td>0ae0c059-31ac-4979-132f-352b31a6d448</td>\n",
              "      <td>0glass is the first high-tech company to apply...</td>\n",
              "    </tr>\n",
              "    <tr>\n",
              "      <th>2</th>\n",
              "      <td>100offer</td>\n",
              "      <td>0cebce5a-3efc-dd27-5ce6-a42245a79cf9</td>\n",
              "      <td>100offer is an opportunity marketplace for tal...</td>\n",
              "    </tr>\n",
              "    <tr>\n",
              "      <th>3</th>\n",
              "      <td>101 Edu</td>\n",
              "      <td>934bd25a-4b91-9d78-12c3-524c679d3e69</td>\n",
              "      <td>101 builds mobile-first teaching and assessmen...</td>\n",
              "    </tr>\n",
              "    <tr>\n",
              "      <th>4</th>\n",
              "      <td>17hats</td>\n",
              "      <td>c852c5d3-220d-2eb6-c78e-3c9148430ce4</td>\n",
              "      <td>17hats has become the small business owners ch...</td>\n",
              "    </tr>\n",
              "    <tr>\n",
              "      <th>5</th>\n",
              "      <td>1928 Diagnostics</td>\n",
              "      <td>e862bea8-d437-2370-6ccc-b117d5549e51</td>\n",
              "      <td>1928 Diagnostics is a digital health company, ...</td>\n",
              "    </tr>\n",
              "    <tr>\n",
              "      <th>6</th>\n",
              "      <td>1939 Games</td>\n",
              "      <td>87366b68-8997-b2e3-a601-bb37ee89a1fd</td>\n",
              "      <td>1939 Games is a indie game development studio ...</td>\n",
              "    </tr>\n",
              "    <tr>\n",
              "      <th>7</th>\n",
              "      <td>1DOC3</td>\n",
              "      <td>474524a8-5ffa-8ef9-a4c9-3effe64e21e0</td>\n",
              "      <td>1doc3 is a e-health platform that connects 490...</td>\n",
              "    </tr>\n",
              "    <tr>\n",
              "      <th>8</th>\n",
              "      <td>1Drop Diagnostics</td>\n",
              "      <td>df4774f0-cfd6-e0f7-abae-0394e7c658ef</td>\n",
              "      <td>1Drop Diagnostics is a cutting edge medical di...</td>\n",
              "    </tr>\n",
              "    <tr>\n",
              "      <th>9</th>\n",
              "      <td>1Huddle</td>\n",
              "      <td>51e4aae5-6ad5-e054-317b-7428bffd0870</td>\n",
              "      <td>Today, companies struggle to onboard, upskill ...</td>\n",
              "    </tr>\n",
              "  </tbody>\n",
              "</table>\n",
              "</div>\n",
              "      <button class=\"colab-df-convert\" onclick=\"convertToInteractive('df-2ad218fb-33d9-4ce1-9da1-dd55c0dbb7f1')\"\n",
              "              title=\"Convert this dataframe to an interactive table.\"\n",
              "              style=\"display:none;\">\n",
              "        \n",
              "  <svg xmlns=\"http://www.w3.org/2000/svg\" height=\"24px\"viewBox=\"0 0 24 24\"\n",
              "       width=\"24px\">\n",
              "    <path d=\"M0 0h24v24H0V0z\" fill=\"none\"/>\n",
              "    <path d=\"M18.56 5.44l.94 2.06.94-2.06 2.06-.94-2.06-.94-.94-2.06-.94 2.06-2.06.94zm-11 1L8.5 8.5l.94-2.06 2.06-.94-2.06-.94L8.5 2.5l-.94 2.06-2.06.94zm10 10l.94 2.06.94-2.06 2.06-.94-2.06-.94-.94-2.06-.94 2.06-2.06.94z\"/><path d=\"M17.41 7.96l-1.37-1.37c-.4-.4-.92-.59-1.43-.59-.52 0-1.04.2-1.43.59L10.3 9.45l-7.72 7.72c-.78.78-.78 2.05 0 2.83L4 21.41c.39.39.9.59 1.41.59.51 0 1.02-.2 1.41-.59l7.78-7.78 2.81-2.81c.8-.78.8-2.07 0-2.86zM5.41 20L4 18.59l7.72-7.72 1.47 1.35L5.41 20z\"/>\n",
              "  </svg>\n",
              "      </button>\n",
              "      \n",
              "  <style>\n",
              "    .colab-df-container {\n",
              "      display:flex;\n",
              "      flex-wrap:wrap;\n",
              "      gap: 12px;\n",
              "    }\n",
              "\n",
              "    .colab-df-convert {\n",
              "      background-color: #E8F0FE;\n",
              "      border: none;\n",
              "      border-radius: 50%;\n",
              "      cursor: pointer;\n",
              "      display: none;\n",
              "      fill: #1967D2;\n",
              "      height: 32px;\n",
              "      padding: 0 0 0 0;\n",
              "      width: 32px;\n",
              "    }\n",
              "\n",
              "    .colab-df-convert:hover {\n",
              "      background-color: #E2EBFA;\n",
              "      box-shadow: 0px 1px 2px rgba(60, 64, 67, 0.3), 0px 1px 3px 1px rgba(60, 64, 67, 0.15);\n",
              "      fill: #174EA6;\n",
              "    }\n",
              "\n",
              "    [theme=dark] .colab-df-convert {\n",
              "      background-color: #3B4455;\n",
              "      fill: #D2E3FC;\n",
              "    }\n",
              "\n",
              "    [theme=dark] .colab-df-convert:hover {\n",
              "      background-color: #434B5C;\n",
              "      box-shadow: 0px 1px 3px 1px rgba(0, 0, 0, 0.15);\n",
              "      filter: drop-shadow(0px 1px 2px rgba(0, 0, 0, 0.3));\n",
              "      fill: #FFFFFF;\n",
              "    }\n",
              "  </style>\n",
              "\n",
              "      <script>\n",
              "        const buttonEl =\n",
              "          document.querySelector('#df-2ad218fb-33d9-4ce1-9da1-dd55c0dbb7f1 button.colab-df-convert');\n",
              "        buttonEl.style.display =\n",
              "          google.colab.kernel.accessAllowed ? 'block' : 'none';\n",
              "\n",
              "        async function convertToInteractive(key) {\n",
              "          const element = document.querySelector('#df-2ad218fb-33d9-4ce1-9da1-dd55c0dbb7f1');\n",
              "          const dataTable =\n",
              "            await google.colab.kernel.invokeFunction('convertToInteractive',\n",
              "                                                     [key], {});\n",
              "          if (!dataTable) return;\n",
              "\n",
              "          const docLinkHtml = 'Like what you see? Visit the ' +\n",
              "            '<a target=\"_blank\" href=https://colab.research.google.com/notebooks/data_table.ipynb>data table notebook</a>'\n",
              "            + ' to learn more about interactive tables.';\n",
              "          element.innerHTML = '';\n",
              "          dataTable['output_type'] = 'display_data';\n",
              "          await google.colab.output.renderOutput(dataTable, element);\n",
              "          const docLink = document.createElement('div');\n",
              "          docLink.innerHTML = docLinkHtml;\n",
              "          element.appendChild(docLink);\n",
              "        }\n",
              "      </script>\n",
              "    </div>\n",
              "  </div>\n",
              "  "
            ]
          },
          "metadata": {},
          "execution_count": 8
        }
      ]
    },
    {
      "cell_type": "code",
      "source": [
        "f[f.duplicated()]"
      ],
      "metadata": {
        "colab": {
          "base_uri": "https://localhost:8080/",
          "height": 49
        },
        "id": "tKHPp1El6lx-",
        "outputId": "200fa5fc-d9dd-44bc-cfa1-c69d88e15a71"
      },
      "id": "tKHPp1El6lx-",
      "execution_count": 9,
      "outputs": [
        {
          "output_type": "execute_result",
          "data": {
            "text/plain": [
              "Empty DataFrame\n",
              "Columns: [org_name, org_uuid, long_description]\n",
              "Index: []"
            ],
            "text/html": [
              "\n",
              "  <div id=\"df-366b0baa-f3c3-4d36-8d46-c99380a08ab1\">\n",
              "    <div class=\"colab-df-container\">\n",
              "      <div>\n",
              "<style scoped>\n",
              "    .dataframe tbody tr th:only-of-type {\n",
              "        vertical-align: middle;\n",
              "    }\n",
              "\n",
              "    .dataframe tbody tr th {\n",
              "        vertical-align: top;\n",
              "    }\n",
              "\n",
              "    .dataframe thead th {\n",
              "        text-align: right;\n",
              "    }\n",
              "</style>\n",
              "<table border=\"1\" class=\"dataframe\">\n",
              "  <thead>\n",
              "    <tr style=\"text-align: right;\">\n",
              "      <th></th>\n",
              "      <th>org_name</th>\n",
              "      <th>org_uuid</th>\n",
              "      <th>long_description</th>\n",
              "    </tr>\n",
              "  </thead>\n",
              "  <tbody>\n",
              "  </tbody>\n",
              "</table>\n",
              "</div>\n",
              "      <button class=\"colab-df-convert\" onclick=\"convertToInteractive('df-366b0baa-f3c3-4d36-8d46-c99380a08ab1')\"\n",
              "              title=\"Convert this dataframe to an interactive table.\"\n",
              "              style=\"display:none;\">\n",
              "        \n",
              "  <svg xmlns=\"http://www.w3.org/2000/svg\" height=\"24px\"viewBox=\"0 0 24 24\"\n",
              "       width=\"24px\">\n",
              "    <path d=\"M0 0h24v24H0V0z\" fill=\"none\"/>\n",
              "    <path d=\"M18.56 5.44l.94 2.06.94-2.06 2.06-.94-2.06-.94-.94-2.06-.94 2.06-2.06.94zm-11 1L8.5 8.5l.94-2.06 2.06-.94-2.06-.94L8.5 2.5l-.94 2.06-2.06.94zm10 10l.94 2.06.94-2.06 2.06-.94-2.06-.94-.94-2.06-.94 2.06-2.06.94z\"/><path d=\"M17.41 7.96l-1.37-1.37c-.4-.4-.92-.59-1.43-.59-.52 0-1.04.2-1.43.59L10.3 9.45l-7.72 7.72c-.78.78-.78 2.05 0 2.83L4 21.41c.39.39.9.59 1.41.59.51 0 1.02-.2 1.41-.59l7.78-7.78 2.81-2.81c.8-.78.8-2.07 0-2.86zM5.41 20L4 18.59l7.72-7.72 1.47 1.35L5.41 20z\"/>\n",
              "  </svg>\n",
              "      </button>\n",
              "      \n",
              "  <style>\n",
              "    .colab-df-container {\n",
              "      display:flex;\n",
              "      flex-wrap:wrap;\n",
              "      gap: 12px;\n",
              "    }\n",
              "\n",
              "    .colab-df-convert {\n",
              "      background-color: #E8F0FE;\n",
              "      border: none;\n",
              "      border-radius: 50%;\n",
              "      cursor: pointer;\n",
              "      display: none;\n",
              "      fill: #1967D2;\n",
              "      height: 32px;\n",
              "      padding: 0 0 0 0;\n",
              "      width: 32px;\n",
              "    }\n",
              "\n",
              "    .colab-df-convert:hover {\n",
              "      background-color: #E2EBFA;\n",
              "      box-shadow: 0px 1px 2px rgba(60, 64, 67, 0.3), 0px 1px 3px 1px rgba(60, 64, 67, 0.15);\n",
              "      fill: #174EA6;\n",
              "    }\n",
              "\n",
              "    [theme=dark] .colab-df-convert {\n",
              "      background-color: #3B4455;\n",
              "      fill: #D2E3FC;\n",
              "    }\n",
              "\n",
              "    [theme=dark] .colab-df-convert:hover {\n",
              "      background-color: #434B5C;\n",
              "      box-shadow: 0px 1px 3px 1px rgba(0, 0, 0, 0.15);\n",
              "      filter: drop-shadow(0px 1px 2px rgba(0, 0, 0, 0.3));\n",
              "      fill: #FFFFFF;\n",
              "    }\n",
              "  </style>\n",
              "\n",
              "      <script>\n",
              "        const buttonEl =\n",
              "          document.querySelector('#df-366b0baa-f3c3-4d36-8d46-c99380a08ab1 button.colab-df-convert');\n",
              "        buttonEl.style.display =\n",
              "          google.colab.kernel.accessAllowed ? 'block' : 'none';\n",
              "\n",
              "        async function convertToInteractive(key) {\n",
              "          const element = document.querySelector('#df-366b0baa-f3c3-4d36-8d46-c99380a08ab1');\n",
              "          const dataTable =\n",
              "            await google.colab.kernel.invokeFunction('convertToInteractive',\n",
              "                                                     [key], {});\n",
              "          if (!dataTable) return;\n",
              "\n",
              "          const docLinkHtml = 'Like what you see? Visit the ' +\n",
              "            '<a target=\"_blank\" href=https://colab.research.google.com/notebooks/data_table.ipynb>data table notebook</a>'\n",
              "            + ' to learn more about interactive tables.';\n",
              "          element.innerHTML = '';\n",
              "          dataTable['output_type'] = 'display_data';\n",
              "          await google.colab.output.renderOutput(dataTable, element);\n",
              "          const docLink = document.createElement('div');\n",
              "          docLink.innerHTML = docLinkHtml;\n",
              "          element.appendChild(docLink);\n",
              "        }\n",
              "      </script>\n",
              "    </div>\n",
              "  </div>\n",
              "  "
            ]
          },
          "metadata": {},
          "execution_count": 9
        }
      ]
    },
    {
      "cell_type": "markdown",
      "source": [
        "There are no duplicated entries in f_2."
      ],
      "metadata": {
        "id": "OCn7arFF6nY4"
      },
      "id": "OCn7arFF6nY4"
    },
    {
      "cell_type": "code",
      "source": [
        "f.isnull().values.any()"
      ],
      "metadata": {
        "colab": {
          "base_uri": "https://localhost:8080/"
        },
        "id": "86FV5dmu7B8w",
        "outputId": "e251eec0-4f85-4e12-e71a-eb89a01b6783"
      },
      "id": "86FV5dmu7B8w",
      "execution_count": 10,
      "outputs": [
        {
          "output_type": "execute_result",
          "data": {
            "text/plain": [
              "False"
            ]
          },
          "metadata": {},
          "execution_count": 10
        }
      ]
    },
    {
      "cell_type": "markdown",
      "source": [
        "There are no missing values in f_2"
      ],
      "metadata": {
        "id": "O5XeTznk7Dx8"
      },
      "id": "O5XeTznk7Dx8"
    },
    {
      "cell_type": "code",
      "source": [
        "f.shape[0]"
      ],
      "metadata": {
        "colab": {
          "base_uri": "https://localhost:8080/"
        },
        "id": "QwwAVlOKO8Ue",
        "outputId": "0401841d-bab3-4a57-e21d-7c395f84e192"
      },
      "id": "QwwAVlOKO8Ue",
      "execution_count": 50,
      "outputs": [
        {
          "output_type": "execute_result",
          "data": {
            "text/plain": [
              "3687"
            ]
          },
          "metadata": {},
          "execution_count": 50
        }
      ]
    },
    {
      "cell_type": "markdown",
      "source": [
        "There are 3687 unsuccessful entries"
      ],
      "metadata": {
        "id": "CQih5t8AO7GX"
      },
      "id": "CQih5t8AO7GX"
    },
    {
      "cell_type": "markdown",
      "source": [
        "Loading startup dataset that has no outcome yet (u for unknown)"
      ],
      "metadata": {
        "id": "gxShXredIyBZ"
      },
      "id": "gxShXredIyBZ"
    },
    {
      "cell_type": "code",
      "source": [
        "u = pd.read_excel(\"/content/drive/MyDrive/Vela Partners/Datasets/unknown.xlsx\")"
      ],
      "metadata": {
        "id": "C6G8mUm3Rb67"
      },
      "id": "C6G8mUm3Rb67",
      "execution_count": 11,
      "outputs": []
    },
    {
      "cell_type": "markdown",
      "source": [
        "# **Removing stopwords**"
      ],
      "metadata": {
        "id": "bensCobs8Rkr"
      },
      "id": "bensCobs8Rkr"
    },
    {
      "cell_type": "markdown",
      "source": [
        "These are common words in the language and they rarely provide useful information. The first word of the name of the startups are taken as stopwords as well since most of them are unique and carries not much information."
      ],
      "metadata": {
        "id": "7dwDpKpq8-oa"
      },
      "id": "7dwDpKpq8-oa"
    },
    {
      "cell_type": "code",
      "source": [
        "def remove_non_ascii(string):\n",
        "    return ''.join(char for char in string if ord(char) < 128)"
      ],
      "metadata": {
        "id": "PqI3UOMCjexY"
      },
      "id": "PqI3UOMCjexY",
      "execution_count": 12,
      "outputs": []
    },
    {
      "cell_type": "code",
      "source": [
        "def remove_stopwords(sentence,df):\n",
        "    # List of stopwords\n",
        "    stopwords = [\"a\", \"about\", \"above\", \"after\", \"again\", \"against\", \"all\", \"am\", \"an\", \"and\", \"any\", \"are\", \"as\", \"at\", \"be\", \"because\", \"been\", \"before\", \"being\", \"below\", \"between\", \"both\", \"but\", \"by\", \"could\", \"did\", \"do\", \"does\", \"doing\", \"down\", \"during\", \"each\", \"few\", \"for\", \"from\", \"further\", \"had\", \"has\", \"have\", \"having\", \"he\", \"he'd\", \"he'll\", \"he's\", \"her\", \"here\", \"here's\", \"hers\", \"herself\", \"him\", \"himself\", \"his\", \"how\", \"how's\", \"i\", \"i'd\", \"i'll\", \"i'm\", \"i've\", \"if\", \"in\", \"into\", \"is\", \"it\", \"it's\", \"its\", \"itself\", \"let's\", \"me\", \"more\", \"most\", \"my\", \"myself\", \"nor\", \"of\", \"on\", \"once\", \"only\", \"or\", \"other\", \"ought\", \"our\", \"ours\", \"ourselves\", \"out\", \"over\", \"own\", \"same\", \"she\", \"she'd\", \"she'll\", \"she's\", \"should\", \"so\", \"some\", \"such\", \"than\", \"that\", \"that's\", \"the\", \"their\", \"theirs\", \"them\", \"themselves\", \"then\", \"there\", \"there's\", \"these\", \"they\", \"they'd\", \"they'll\", \"they're\", \"they've\", \"this\", \"those\", \"through\", \"to\", \"too\", \"under\", \"until\", \"up\", \"very\", \"was\", \"we\", \"we'd\", \"we'll\", \"we're\", \"we've\", \"were\", \"what\", \"what's\", \"when\", \"when's\", \"where\", \"where's\", \"which\", \"while\", \"who\", \"who's\", \"whom\", \"why\", \"why's\", \"with\", \"would\", \"you\", \"you'd\", \"you'll\", \"you're\", \"you've\", \"your\", \"yours\", \"yourself\", \"yourselves\" ]\n",
        "    # The first word of the name of the startups\n",
        "    namelist = df.org_name.str.lower().values.tolist()\n",
        "    for i in range(len(namelist)):\n",
        "      namelist[i]=namelist[i].split(' ')[0]\n",
        "    stopwords = stopwords + namelist\n",
        "    # Sentence converted to lowercase-only\n",
        "    sentence = sentence.lower()\n",
        "    sentence = remove_non_ascii(sentence)\n",
        "    newlist=sentence.split(' ')\n",
        "    sentence=[]\n",
        "    for j in newlist:\n",
        "        for i in stopwords:\n",
        "            if i==j:\n",
        "                sentence.append(i)\n",
        "    sentence = [item for item in newlist if item not in sentence]\n",
        "    sentence=' '.join(sentence)\n",
        "    return sentence"
      ],
      "metadata": {
        "id": "vy-Sia0t7ex_"
      },
      "id": "vy-Sia0t7ex_",
      "execution_count": 13,
      "outputs": []
    },
    {
      "cell_type": "markdown",
      "source": [
        "Creating a new column (newD) for the new description with stopwords removed, and a column for the successful/fail (1/0) label"
      ],
      "metadata": {
        "id": "xuIjCAeNPhHl"
      },
      "id": "xuIjCAeNPhHl"
    },
    {
      "cell_type": "code",
      "source": [
        "s['newD']=s['long_description']\n",
        "f['newD']=f['long_description']\n",
        "u['newD']=u['long_description']\n",
        "s['label']=1\n",
        "f['label']=0"
      ],
      "metadata": {
        "id": "4isIHqS1Ryk4"
      },
      "id": "4isIHqS1Ryk4",
      "execution_count": 14,
      "outputs": []
    },
    {
      "cell_type": "code",
      "source": [
        "for i in range(len(s)):\n",
        "  s['newD'][i]=remove_stopwords(s.iloc[i,2],s)\n",
        "for i in range(len(f)):\n",
        "  f['newD'][i]=remove_stopwords(f.iloc[i,2],f)\n",
        "for i in range(len(u)):\n",
        "  u['newD'][i]=remove_stopwords(u.iloc[i,2],u)"
      ],
      "metadata": {
        "id": "OlezOyXLkIEX"
      },
      "id": "OlezOyXLkIEX",
      "execution_count": 15,
      "outputs": []
    },
    {
      "cell_type": "code",
      "source": [
        "s=s.drop(columns='long_description')\n",
        "f=f.drop(columns='long_description')\n",
        "u=u.drop(columns='long_description')"
      ],
      "metadata": {
        "id": "7m8M_JdMvxKn"
      },
      "id": "7m8M_JdMvxKn",
      "execution_count": 16,
      "outputs": []
    },
    {
      "cell_type": "markdown",
      "source": [
        "shuffling the successful and failed startups long description with labels together"
      ],
      "metadata": {
        "id": "mLzhmSmuhcAP"
      },
      "id": "mLzhmSmuhcAP"
    },
    {
      "cell_type": "code",
      "source": [
        "total = pd.concat([s,f])\n",
        "total=total.sample(frac=1)\n",
        "total.head()"
      ],
      "metadata": {
        "colab": {
          "base_uri": "https://localhost:8080/",
          "height": 206
        },
        "id": "kuBJYYDZTFtt",
        "outputId": "8bbc3251-8e9c-450e-91be-662e678fa5c4"
      },
      "id": "kuBJYYDZTFtt",
      "execution_count": 73,
      "outputs": [
        {
          "output_type": "execute_result",
          "data": {
            "text/plain": [
              "            org_name                              org_uuid  \\\n",
              "1866     TradingView  75e2c515-277f-2d9a-0d5a-d7792ffcb5d0   \n",
              "888          Illumio  45a43b37-887c-1932-13f1-2f1c21752f60   \n",
              "2431  Protea Medical  08185331-8e44-8a7d-c45d-0decbc47d8af   \n",
              "290       Brightline  2350aa51-28cc-4d25-bce1-f9cfa2986a1f   \n",
              "455           Convoy  3d76ae12-58f8-01a0-d377-cfe4066b03cc   \n",
              "\n",
              "                                                   newD  label  wordcount  \n",
              "1866  network traders investors  powered real-time d...      1         56  \n",
              "888   security company stops cyber threats unauthori...      1         32  \n",
              "2431  regenerative medicine medicine focuses treatme...      0         51  \n",
              "290   technology-enabled behavioral health children ...      1         31  \n",
              "455   nations efficient freight network. move thousa...      1         63  "
            ],
            "text/html": [
              "\n",
              "  <div id=\"df-55791a12-d440-4d8c-9972-ecb33bba8bd9\">\n",
              "    <div class=\"colab-df-container\">\n",
              "      <div>\n",
              "<style scoped>\n",
              "    .dataframe tbody tr th:only-of-type {\n",
              "        vertical-align: middle;\n",
              "    }\n",
              "\n",
              "    .dataframe tbody tr th {\n",
              "        vertical-align: top;\n",
              "    }\n",
              "\n",
              "    .dataframe thead th {\n",
              "        text-align: right;\n",
              "    }\n",
              "</style>\n",
              "<table border=\"1\" class=\"dataframe\">\n",
              "  <thead>\n",
              "    <tr style=\"text-align: right;\">\n",
              "      <th></th>\n",
              "      <th>org_name</th>\n",
              "      <th>org_uuid</th>\n",
              "      <th>newD</th>\n",
              "      <th>label</th>\n",
              "      <th>wordcount</th>\n",
              "    </tr>\n",
              "  </thead>\n",
              "  <tbody>\n",
              "    <tr>\n",
              "      <th>1866</th>\n",
              "      <td>TradingView</td>\n",
              "      <td>75e2c515-277f-2d9a-0d5a-d7792ffcb5d0</td>\n",
              "      <td>network traders investors  powered real-time d...</td>\n",
              "      <td>1</td>\n",
              "      <td>56</td>\n",
              "    </tr>\n",
              "    <tr>\n",
              "      <th>888</th>\n",
              "      <td>Illumio</td>\n",
              "      <td>45a43b37-887c-1932-13f1-2f1c21752f60</td>\n",
              "      <td>security company stops cyber threats unauthori...</td>\n",
              "      <td>1</td>\n",
              "      <td>32</td>\n",
              "    </tr>\n",
              "    <tr>\n",
              "      <th>2431</th>\n",
              "      <td>Protea Medical</td>\n",
              "      <td>08185331-8e44-8a7d-c45d-0decbc47d8af</td>\n",
              "      <td>regenerative medicine medicine focuses treatme...</td>\n",
              "      <td>0</td>\n",
              "      <td>51</td>\n",
              "    </tr>\n",
              "    <tr>\n",
              "      <th>290</th>\n",
              "      <td>Brightline</td>\n",
              "      <td>2350aa51-28cc-4d25-bce1-f9cfa2986a1f</td>\n",
              "      <td>technology-enabled behavioral health children ...</td>\n",
              "      <td>1</td>\n",
              "      <td>31</td>\n",
              "    </tr>\n",
              "    <tr>\n",
              "      <th>455</th>\n",
              "      <td>Convoy</td>\n",
              "      <td>3d76ae12-58f8-01a0-d377-cfe4066b03cc</td>\n",
              "      <td>nations efficient freight network. move thousa...</td>\n",
              "      <td>1</td>\n",
              "      <td>63</td>\n",
              "    </tr>\n",
              "  </tbody>\n",
              "</table>\n",
              "</div>\n",
              "      <button class=\"colab-df-convert\" onclick=\"convertToInteractive('df-55791a12-d440-4d8c-9972-ecb33bba8bd9')\"\n",
              "              title=\"Convert this dataframe to an interactive table.\"\n",
              "              style=\"display:none;\">\n",
              "        \n",
              "  <svg xmlns=\"http://www.w3.org/2000/svg\" height=\"24px\"viewBox=\"0 0 24 24\"\n",
              "       width=\"24px\">\n",
              "    <path d=\"M0 0h24v24H0V0z\" fill=\"none\"/>\n",
              "    <path d=\"M18.56 5.44l.94 2.06.94-2.06 2.06-.94-2.06-.94-.94-2.06-.94 2.06-2.06.94zm-11 1L8.5 8.5l.94-2.06 2.06-.94-2.06-.94L8.5 2.5l-.94 2.06-2.06.94zm10 10l.94 2.06.94-2.06 2.06-.94-2.06-.94-.94-2.06-.94 2.06-2.06.94z\"/><path d=\"M17.41 7.96l-1.37-1.37c-.4-.4-.92-.59-1.43-.59-.52 0-1.04.2-1.43.59L10.3 9.45l-7.72 7.72c-.78.78-.78 2.05 0 2.83L4 21.41c.39.39.9.59 1.41.59.51 0 1.02-.2 1.41-.59l7.78-7.78 2.81-2.81c.8-.78.8-2.07 0-2.86zM5.41 20L4 18.59l7.72-7.72 1.47 1.35L5.41 20z\"/>\n",
              "  </svg>\n",
              "      </button>\n",
              "      \n",
              "  <style>\n",
              "    .colab-df-container {\n",
              "      display:flex;\n",
              "      flex-wrap:wrap;\n",
              "      gap: 12px;\n",
              "    }\n",
              "\n",
              "    .colab-df-convert {\n",
              "      background-color: #E8F0FE;\n",
              "      border: none;\n",
              "      border-radius: 50%;\n",
              "      cursor: pointer;\n",
              "      display: none;\n",
              "      fill: #1967D2;\n",
              "      height: 32px;\n",
              "      padding: 0 0 0 0;\n",
              "      width: 32px;\n",
              "    }\n",
              "\n",
              "    .colab-df-convert:hover {\n",
              "      background-color: #E2EBFA;\n",
              "      box-shadow: 0px 1px 2px rgba(60, 64, 67, 0.3), 0px 1px 3px 1px rgba(60, 64, 67, 0.15);\n",
              "      fill: #174EA6;\n",
              "    }\n",
              "\n",
              "    [theme=dark] .colab-df-convert {\n",
              "      background-color: #3B4455;\n",
              "      fill: #D2E3FC;\n",
              "    }\n",
              "\n",
              "    [theme=dark] .colab-df-convert:hover {\n",
              "      background-color: #434B5C;\n",
              "      box-shadow: 0px 1px 3px 1px rgba(0, 0, 0, 0.15);\n",
              "      filter: drop-shadow(0px 1px 2px rgba(0, 0, 0, 0.3));\n",
              "      fill: #FFFFFF;\n",
              "    }\n",
              "  </style>\n",
              "\n",
              "      <script>\n",
              "        const buttonEl =\n",
              "          document.querySelector('#df-55791a12-d440-4d8c-9972-ecb33bba8bd9 button.colab-df-convert');\n",
              "        buttonEl.style.display =\n",
              "          google.colab.kernel.accessAllowed ? 'block' : 'none';\n",
              "\n",
              "        async function convertToInteractive(key) {\n",
              "          const element = document.querySelector('#df-55791a12-d440-4d8c-9972-ecb33bba8bd9');\n",
              "          const dataTable =\n",
              "            await google.colab.kernel.invokeFunction('convertToInteractive',\n",
              "                                                     [key], {});\n",
              "          if (!dataTable) return;\n",
              "\n",
              "          const docLinkHtml = 'Like what you see? Visit the ' +\n",
              "            '<a target=\"_blank\" href=https://colab.research.google.com/notebooks/data_table.ipynb>data table notebook</a>'\n",
              "            + ' to learn more about interactive tables.';\n",
              "          element.innerHTML = '';\n",
              "          dataTable['output_type'] = 'display_data';\n",
              "          await google.colab.output.renderOutput(dataTable, element);\n",
              "          const docLink = document.createElement('div');\n",
              "          docLink.innerHTML = docLinkHtml;\n",
              "          element.appendChild(docLink);\n",
              "        }\n",
              "      </script>\n",
              "    </div>\n",
              "  </div>\n",
              "  "
            ]
          },
          "metadata": {},
          "execution_count": 73
        }
      ]
    },
    {
      "cell_type": "markdown",
      "source": [
        "Calculating and plotting the number of words for each modified description"
      ],
      "metadata": {
        "id": "WmcvZaxcxH5N"
      },
      "id": "WmcvZaxcxH5N"
    },
    {
      "cell_type": "code",
      "source": [
        "s['wordcount']=0\n",
        "f['wordcount']=0\n",
        "u['wordcount']=0\n",
        "for i in range(len(s)):\n",
        "  s['wordcount'][i]=len(s['newD'][i].split(' '))\n",
        "for i in range(len(f)):\n",
        "  f['wordcount'][i]=len(f['newD'][i].split(' '))\n",
        "for i in range(len(u)):\n",
        "  u['wordcount'][i]=len(u['newD'][i].split(' '))"
      ],
      "metadata": {
        "id": "qos4sF8xwUJn"
      },
      "id": "qos4sF8xwUJn",
      "execution_count": 18,
      "outputs": []
    },
    {
      "cell_type": "code",
      "source": [
        "sns.displot(s['wordcount'], kind='kde')\n",
        "plt.show()"
      ],
      "metadata": {
        "colab": {
          "base_uri": "https://localhost:8080/",
          "height": 369
        },
        "id": "2JngAM5vRDom",
        "outputId": "cc359eeb-a73b-4a3e-860e-1805cdae4939"
      },
      "id": "2JngAM5vRDom",
      "execution_count": 19,
      "outputs": [
        {
          "output_type": "display_data",
          "data": {
            "text/plain": [
              "<Figure size 360x360 with 1 Axes>"
            ],
            "image/png": "[encoded data removed]"
          },
          "metadata": {
            "needs_background": "light"
          }
        }
      ]
    },
    {
      "cell_type": "code",
      "source": [
        "sns.displot(f['wordcount'], kind='kde')\n",
        "plt.show()"
      ],
      "metadata": {
        "colab": {
          "base_uri": "https://localhost:8080/",
          "height": 369
        },
        "id": "oX-Jr2o1Rn1T",
        "outputId": "bb63f756-0bc4-45d3-9e6d-bb9a3baf8fd3"
      },
      "id": "oX-Jr2o1Rn1T",
      "execution_count": 20,
      "outputs": [
        {
          "output_type": "display_data",
          "data": {
            "text/plain": [
              "<Figure size 360x360 with 1 Axes>"
            ],
            "image/png": "[encoded data removed]"
          },
          "metadata": {
            "needs_background": "light"
          }
        }
      ]
    },
    {
      "cell_type": "code",
      "source": [
        "sns.displot(u['wordcount'], kind='kde')\n",
        "plt.show()"
      ],
      "metadata": {
        "colab": {
          "base_uri": "https://localhost:8080/",
          "height": 369
        },
        "id": "x535Dv9Mj4WB",
        "outputId": "c6a9b157-e562-4281-d20f-cab5277fce70"
      },
      "id": "x535Dv9Mj4WB",
      "execution_count": 21,
      "outputs": [
        {
          "output_type": "display_data",
          "data": {
            "text/plain": [
              "<Figure size 360x360 with 1 Axes>"
            ],
            "image/png": "[encoded data removed]"
          },
          "metadata": {
            "needs_background": "light"
          }
        }
      ]
    },
    {
      "cell_type": "markdown",
      "source": [
        "A visual scan tells us most startups have description fewer than 120 words, and thus set MAXLEN=120"
      ],
      "metadata": {
        "id": "drj4CxnQSPP-"
      },
      "id": "drj4CxnQSPP-"
    },
    {
      "cell_type": "markdown",
      "source": [
        "## Defining useful global variables\n",
        "[tf.keras.preprocessing.text.Tokenizer - reference link](https://www.tensorflow.org/api_docs/python/tf/keras/preprocessing/text/Tokenizer)\n",
        "\n",
        "Define some global variables that will be used in the unit tests \n",
        "\n",
        "- `NUM_WORDS`: The maximum number of words to keep, based on word frequency. Only the most common num_words-1 words will be kept.\n",
        "\n",
        "- `EMBEDDING_DIM`: Dimension of the dense embedding, will be used in the embedding layer of the model.\n",
        "\n",
        "\n",
        "- `MAXLEN`: Maximum length of all sequences.\n",
        "\n",
        "\n",
        "- `PADDING`: Padding strategy (pad either before or after each sequence.). \n",
        "\n",
        "\n",
        "- `OOV_TOKEN`: Token to replace out-of-vocabulary words during text_to_sequence calls. Defaults to \"\\<OOV>\".\n",
        "\n",
        "    \n",
        "- `TRAINING_SPLIT`: Proportion of data used for training."
      ],
      "metadata": {
        "id": "blSbxYJIZk93"
      },
      "id": "blSbxYJIZk93"
    },
    {
      "cell_type": "code",
      "source": [
        "NUM_WORDS = 10000\n",
        "EMBEDDING_DIM = 8\n",
        "MAXLEN = 120\n",
        "PADDING = 'post'\n",
        "OOV_TOKEN = \"<OOV>\"\n",
        "TRAINING_SPLIT = .7"
      ],
      "metadata": {
        "id": "7wy8iVFtVNPd"
      },
      "id": "7wy8iVFtVNPd",
      "execution_count": 79,
      "outputs": []
    },
    {
      "cell_type": "markdown",
      "source": [
        "## Training - Validation Split\n",
        "\n",
        "Split the lists into training and validation sentences"
      ],
      "metadata": {
        "id": "E96Gj7EMZvrI"
      },
      "id": "E96Gj7EMZvrI"
    },
    {
      "cell_type": "code",
      "source": [
        "def train_val_split(sentences, labels, training_split): \n",
        "  train_size = len(sentences)\n",
        "  train_sentences = sentences[0:round(training_split*train_size)]\n",
        "  train_labels = labels[0:round(training_split*train_size)]\n",
        "  validation_sentences = sentences[round(training_split*train_size):]\n",
        "  validation_labels = labels[round(training_split*train_size):]\n",
        "  return train_sentences, validation_sentences, train_labels, validation_labels"
      ],
      "metadata": {
        "id": "1lNiU2xKZ2YV"
      },
      "id": "1lNiU2xKZ2YV",
      "execution_count": 23,
      "outputs": []
    },
    {
      "cell_type": "code",
      "source": [
        "train_sentences, val_sentences, train_labels, val_labels = train_val_split(total.newD, total.label, TRAINING_SPLIT)"
      ],
      "metadata": {
        "id": "aeQkyB4GaP6S"
      },
      "id": "aeQkyB4GaP6S",
      "execution_count": 80,
      "outputs": []
    },
    {
      "cell_type": "markdown",
      "source": [
        "## Tokenization - Sequences and padding"
      ],
      "metadata": {
        "id": "0c5SRBpVTAQv"
      },
      "id": "0c5SRBpVTAQv"
    },
    {
      "cell_type": "code",
      "source": [
        "def fit_tokenizer(train_sentences, num_words, oov_token):\n",
        "  # Instantiate the Tokenizer class, passing in the correct values for num_words and oov_token\n",
        "  tokenizer = tf.keras.preprocessing.text.Tokenizer(num_words = num_words, oov_token=oov_token)\n",
        "  # Fit the tokenizer to the training sentences\n",
        "  tokenizer.fit_on_texts(train_sentences) \n",
        "  return tokenizer"
      ],
      "metadata": {
        "id": "y5b-ifuxSpzN"
      },
      "id": "y5b-ifuxSpzN",
      "execution_count": 55,
      "outputs": []
    },
    {
      "cell_type": "code",
      "source": [
        "tokenizer = fit_tokenizer(train_sentences, NUM_WORDS, OOV_TOKEN)\n",
        "word_index = tokenizer.word_index\n",
        "print(f\"Vocabulary contains {len(word_index)} words\\n\")\n",
        "print(\"<OOV> token included in vocabulary\" if \"<OOV>\" in word_index else \"<OOV> token NOT included in vocabulary\")"
      ],
      "metadata": {
        "colab": {
          "base_uri": "https://localhost:8080/"
        },
        "id": "YMHNYJ3si2et",
        "outputId": "f0425619-5c3f-4534-fd3a-35e4799409a8"
      },
      "id": "YMHNYJ3si2et",
      "execution_count": 81,
      "outputs": [
        {
          "output_type": "stream",
          "name": "stdout",
          "text": [
            "Vocabulary contains 21149 words\n",
            "\n",
            "<OOV> token included in vocabulary\n"
          ]
        }
      ]
    },
    {
      "cell_type": "markdown",
      "source": [
        "Convert each text data point into its padded sequence representation"
      ],
      "metadata": {
        "id": "Z8hbvjAzjN4u"
      },
      "id": "Z8hbvjAzjN4u"
    },
    {
      "cell_type": "code",
      "source": [
        "def seq_and_pad(sentences, tokenizer, padding, maxlen):   \n",
        "  # Convert sentences to sequences\n",
        "  sequences = tokenizer.texts_to_sequences(sentences)\n",
        "  # Pad the sequences using the correct padding and maxlen\n",
        "  padded_sequences = tf.keras.utils.pad_sequences(sequences, maxlen=maxlen, padding=padding)\n",
        "  return padded_sequences"
      ],
      "metadata": {
        "id": "lTHfvn9njOs6"
      },
      "id": "lTHfvn9njOs6",
      "execution_count": 27,
      "outputs": []
    },
    {
      "cell_type": "code",
      "source": [
        "train_padded_seq = seq_and_pad(train_sentences, tokenizer, PADDING, MAXLEN)\n",
        "val_padded_seq = seq_and_pad(val_sentences, tokenizer, PADDING, MAXLEN)\n",
        "unknown_padded_seq = seq_and_pad(u['newD'], tokenizer, PADDING, MAXLEN)\n",
        "all_padded_seq = seq_and_pad(total['newD'], tokenizer, PADDING, MAXLEN)\n",
        "print(f\"Padded training sequences have shape: {train_padded_seq.shape}\\n\")\n",
        "print(f\"Padded validation sequences have shape: {val_padded_seq.shape}\\n\")\n",
        "print(f\"Padded unknown sequences have shape: {unknown_padded_seq.shape}\\n\")\n",
        "print(f\"Padded all sequences have shape: {all_padded_seq.shape}\")"
      ],
      "metadata": {
        "colab": {
          "base_uri": "https://localhost:8080/"
        },
        "id": "0vFZoa96jeyU",
        "outputId": "3cda693c-5030-4518-d32e-1c7157adab04"
      },
      "id": "0vFZoa96jeyU",
      "execution_count": 82,
      "outputs": [
        {
          "output_type": "stream",
          "name": "stdout",
          "text": [
            "Padded training sequences have shape: (4090, 120)\n",
            "\n",
            "Padded validation sequences have shape: (1753, 120)\n",
            "\n",
            "Padded unknown sequences have shape: (14, 120)\n",
            "\n",
            "Padded all sequences have shape: (5843, 120)\n"
          ]
        }
      ]
    },
    {
      "cell_type": "markdown",
      "source": [
        "A neural network with three layers"
      ],
      "metadata": {
        "id": "hR6A-QbpLViJ"
      },
      "id": "hR6A-QbpLViJ"
    },
    {
      "cell_type": "code",
      "source": [
        "def create_model(num_words, embedding_dim, maxlen):\n",
        "  tf.random.set_seed(123)\n",
        "  model = tf.keras.Sequential([ \n",
        "        tf.keras.layers.Embedding(num_words, embedding_dim,input_length=maxlen),\n",
        "    tf.keras.layers.GlobalAveragePooling1D(),\n",
        "    tf.keras.layers.Dense(163, activation='softmax'),\n",
        "    tf.keras.layers.Dense(57, activation='sigmoid'),\n",
        "    tf.keras.layers.Dense(17),\n",
        "    tf.keras.layers.Dense(2, activation='softmax')])\n",
        "    \n",
        "  model.compile(loss=\"sparse_categorical_crossentropy\",\n",
        "                  optimizer='adam',\n",
        "                  metrics=['accuracy']) \n",
        "  return model"
      ],
      "metadata": {
        "id": "yuQp11hRkfwn"
      },
      "id": "yuQp11hRkfwn",
      "execution_count": 101,
      "outputs": []
    },
    {
      "cell_type": "code",
      "source": [
        "model.summary()"
      ],
      "metadata": {
        "colab": {
          "base_uri": "https://localhost:8080/"
        },
        "id": "FBT9TCQtr26v",
        "outputId": "2b741bba-3460-4c87-e3ca-553106ff05f9"
      },
      "id": "FBT9TCQtr26v",
      "execution_count": 109,
      "outputs": [
        {
          "output_type": "stream",
          "name": "stdout",
          "text": [
            "Model: \"sequential_21\"\n",
            "_________________________________________________________________\n",
            " Layer (type)                Output Shape              Param #   \n",
            "=================================================================\n",
            " embedding_21 (Embedding)    (None, 120, 8)            80000     \n",
            "                                                                 \n",
            " global_average_pooling1d_21  (None, 8)                0         \n",
            "  (GlobalAveragePooling1D)                                       \n",
            "                                                                 \n",
            " dense_67 (Dense)            (None, 163)               1467      \n",
            "                                                                 \n",
            " dense_68 (Dense)            (None, 57)                9348      \n",
            "                                                                 \n",
            " dense_69 (Dense)            (None, 17)                986       \n",
            "                                                                 \n",
            " dense_70 (Dense)            (None, 2)                 36        \n",
            "                                                                 \n",
            "=================================================================\n",
            "Total params: 91,837\n",
            "Trainable params: 91,837\n",
            "Non-trainable params: 0\n",
            "_________________________________________________________________\n"
          ]
        }
      ]
    },
    {
      "cell_type": "code",
      "source": [
        "model = create_model(NUM_WORDS, EMBEDDING_DIM, MAXLEN)\n",
        "history = model.fit(train_padded_seq, train_labels, epochs=20, validation_data=(val_padded_seq, val_labels))"
      ],
      "metadata": {
        "id": "Kyf6t_zVkn38",
        "colab": {
          "base_uri": "https://localhost:8080/"
        },
        "outputId": "f3f28f89-dce9-4fc4-b740-aede41ae2e7f"
      },
      "id": "Kyf6t_zVkn38",
      "execution_count": 102,
      "outputs": [
        {
          "metadata": {
            "tags": null
          },
          "name": "stdout",
          "output_type": "stream",
          "text": [
            "Epoch 1/20\n",
            "128/128 [==============================] - 2s 9ms/step - loss: 0.6613 - accuracy: 0.6374 - val_loss: 0.6679 - val_accuracy: 0.6161\n",
            "Epoch 2/20\n",
            "128/128 [==============================] - 1s 7ms/step - loss: 0.6570 - accuracy: 0.6374 - val_loss: 0.6793 - val_accuracy: 0.6161\n",
            "Epoch 3/20\n",
            "128/128 [==============================] - 1s 6ms/step - loss: 0.6583 - accuracy: 0.6374 - val_loss: 0.6698 - val_accuracy: 0.6161\n",
            "Epoch 4/20\n",
            "128/128 [==============================] - 1s 6ms/step - loss: 0.6588 - accuracy: 0.6374 - val_loss: 0.6799 - val_accuracy: 0.6161\n",
            "Epoch 5/20\n",
            "128/128 [==============================] - 1s 6ms/step - loss: 0.6526 - accuracy: 0.6374 - val_loss: 0.6550 - val_accuracy: 0.6161\n",
            "Epoch 6/20\n",
            "128/128 [==============================] - 1s 7ms/step - loss: 0.6319 - accuracy: 0.6482 - val_loss: 0.6275 - val_accuracy: 0.6492\n",
            "Epoch 7/20\n",
            "128/128 [==============================] - 1s 7ms/step - loss: 0.5728 - accuracy: 0.7083 - val_loss: 0.5511 - val_accuracy: 0.7285\n",
            "Epoch 8/20\n",
            "128/128 [==============================] - 1s 5ms/step - loss: 0.4288 - accuracy: 0.8355 - val_loss: 0.4128 - val_accuracy: 0.8220\n",
            "Epoch 9/20\n",
            "128/128 [==============================] - 1s 5ms/step - loss: 0.2719 - accuracy: 0.8941 - val_loss: 0.3387 - val_accuracy: 0.8580\n",
            "Epoch 10/20\n",
            "128/128 [==============================] - 1s 5ms/step - loss: 0.1955 - accuracy: 0.9267 - val_loss: 0.3260 - val_accuracy: 0.8654\n",
            "Epoch 11/20\n",
            "128/128 [==============================] - 1s 6ms/step - loss: 0.1519 - accuracy: 0.9443 - val_loss: 0.3171 - val_accuracy: 0.8716\n",
            "Epoch 12/20\n",
            "128/128 [==============================] - 1s 7ms/step - loss: 0.1220 - accuracy: 0.9543 - val_loss: 0.3112 - val_accuracy: 0.8768\n",
            "Epoch 13/20\n",
            "128/128 [==============================] - 1s 6ms/step - loss: 0.1020 - accuracy: 0.9614 - val_loss: 0.3137 - val_accuracy: 0.8791\n",
            "Epoch 14/20\n",
            "128/128 [==============================] - 1s 6ms/step - loss: 0.0847 - accuracy: 0.9716 - val_loss: 0.3383 - val_accuracy: 0.8779\n",
            "Epoch 15/20\n",
            "128/128 [==============================] - 1s 5ms/step - loss: 0.0705 - accuracy: 0.9736 - val_loss: 0.3354 - val_accuracy: 0.8819\n",
            "Epoch 16/20\n",
            "128/128 [==============================] - 1s 5ms/step - loss: 0.0570 - accuracy: 0.9802 - val_loss: 0.3420 - val_accuracy: 0.8831\n",
            "Epoch 17/20\n",
            "128/128 [==============================] - 1s 6ms/step - loss: 0.0477 - accuracy: 0.9839 - val_loss: 0.3503 - val_accuracy: 0.8865\n",
            "Epoch 18/20\n",
            "128/128 [==============================] - 1s 6ms/step - loss: 0.0396 - accuracy: 0.9880 - val_loss: 0.3645 - val_accuracy: 0.8853\n",
            "Epoch 19/20\n",
            "128/128 [==============================] - 1s 7ms/step - loss: 0.0330 - accuracy: 0.9902 - val_loss: 0.3885 - val_accuracy: 0.8888\n",
            "Epoch 20/20\n",
            "128/128 [==============================] - 1s 5ms/step - loss: 0.0280 - accuracy: 0.9922 - val_loss: 0.4091 - val_accuracy: 0.8876\n"
          ]
        }
      ]
    },
    {
      "cell_type": "code",
      "source": [
        "test_pred = model.predict(val_padded_seq)\n",
        "test_pred = np.argmax(test_pred, axis=-1)\n",
        "\n",
        "# Printing the classification report\n",
        "print(classification_report(val_labels, test_pred))\n",
        "\n",
        "# Plotting the heatmap using confusion matrix\n",
        "cm = confusion_matrix(val_labels, test_pred)\n",
        "plt.figure(figsize=(8,5))\n",
        "sns.heatmap(cm, annot=True,  fmt='.0f')\n",
        "plt.ylabel('Actual')\n",
        "plt.xlabel('Predicted')\n",
        "plt.show()"
      ],
      "metadata": {
        "colab": {
          "base_uri": "https://localhost:8080/",
          "height": 508
        },
        "id": "BXGhgfycW-_J",
        "outputId": "ef87e459-1308-4ed2-b96b-35cdc7b67e31"
      },
      "id": "BXGhgfycW-_J",
      "execution_count": 103,
      "outputs": [
        {
          "output_type": "stream",
          "name": "stdout",
          "text": [
            "55/55 [==============================] - 0s 2ms/step\n",
            "              precision    recall  f1-score   support\n",
            "\n",
            "           0       0.88      0.94      0.91      1080\n",
            "           1       0.90      0.80      0.84       673\n",
            "\n",
            "    accuracy                           0.89      1753\n",
            "   macro avg       0.89      0.87      0.88      1753\n",
            "weighted avg       0.89      0.89      0.89      1753\n",
            "\n"
          ]
        },
        {
          "output_type": "display_data",
          "data": {
            "text/plain": [
              "<Figure size 576x360 with 2 Axes>"
            ],
            "image/png": "[encoded data removed]"
          },
          "metadata": {
            "needs_background": "light"
          }
        }
      ]
    },
    {
      "cell_type": "markdown",
      "source": [
        "For this 0.7 training/validation split trial, the model returns an accuracy of 89%, a precision of 90% and a recall of 80%. A zero rate classifier will classify all startups into 0, and thus a baseline accuracy of 62%."
      ],
      "metadata": {
        "id": "xTBn8BqtLZjl"
      },
      "id": "xTBn8BqtLZjl"
    },
    {
      "cell_type": "code",
      "source": [
        "def plot_graphs(history, metric):\n",
        "    plt.plot(history.history[metric])\n",
        "    plt.plot(history.history[f'val_{metric}'])\n",
        "    plt.xlabel(\"Epochs\")\n",
        "    plt.ylabel(metric)\n",
        "    plt.legend([metric, f'val_{metric}'])\n",
        "    plt.show()\n",
        "    \n",
        "plot_graphs(history, \"accuracy\")\n",
        "plot_graphs(history, \"loss\")"
      ],
      "metadata": {
        "colab": {
          "base_uri": "https://localhost:8080/",
          "height": 542
        },
        "id": "z7sjN1d-k_iN",
        "outputId": "737890ec-f1f7-440f-861d-b124af409afd"
      },
      "id": "z7sjN1d-k_iN",
      "execution_count": 104,
      "outputs": [
        {
          "output_type": "display_data",
          "data": {
            "text/plain": [
              "<Figure size 432x288 with 1 Axes>"
            ],
            "image/png": "[encoded data removed]"
          },
          "metadata": {
            "needs_background": "light"
          }
        },
        {
          "output_type": "display_data",
          "data": {
            "text/plain": [
              "<Figure size 432x288 with 1 Axes>"
            ],
            "image/png": "[encoded data removed]"
          },
          "metadata": {
            "needs_background": "light"
          }
        }
      ]
    },
    {
      "cell_type": "markdown",
      "source": [
        "The model is overfitting after about 7 epochs."
      ],
      "metadata": {
        "id": "KKqXJK86Nv2R"
      },
      "id": "KKqXJK86Nv2R"
    },
    {
      "cell_type": "markdown",
      "source": [
        "Applying this model to predict the outcomes of selected startups"
      ],
      "metadata": {
        "id": "MTCulc6IN0sF"
      },
      "id": "MTCulc6IN0sF"
    },
    {
      "cell_type": "code",
      "source": [
        "u['result']=np.argmax(model.predict(unknown_padded_seq), axis=-1)\n",
        "u"
      ],
      "metadata": {
        "id": "NtvjG0TvadJB",
        "colab": {
          "base_uri": "https://localhost:8080/",
          "height": 506
        },
        "outputId": "ce77b413-2bdd-4f06-f5cf-83e6114d27b9"
      },
      "id": "NtvjG0TvadJB",
      "execution_count": 105,
      "outputs": [
        {
          "output_type": "stream",
          "name": "stdout",
          "text": [
            "1/1 [==============================] - 0s 27ms/step\n"
          ]
        },
        {
          "output_type": "execute_result",
          "data": {
            "text/plain": [
              "          org_name                                               newD  \\\n",
              "0    Vela Partners  partners san francisco-based investment firm, ...   \n",
              "1    DagKnows, Inc  seasoned bunch deep expertise designing enterp...   \n",
              "2   Polymer Search  data continues grow exponentially organization...   \n",
              "3     Lightup Data  next-generation data quality data observabilit...   \n",
              "4          Cartken  makes communities connected bridging distance ...   \n",
              "5        Meditopia  founded 2017, one worlds leading global mental...   \n",
              "6   Kuika Software  started journey 2015 democratize software deve...   \n",
              "7           Golden  developer self-constructing knowledge database...   \n",
              "8            Cerby  delivers zero trust architecture unmanageable ...   \n",
              "9          Phaidra  building future industrial automation.\\n\\nthe ...   \n",
              "10      CloudNatix  provider efficient infrastructure across multi...   \n",
              "11        Promoted  sort marketplace search promote best listings ...   \n",
              "12        Grabango  checkout-free technology existing, large-scale...   \n",
              "13        Protopie  prototyping interactions easy pie easy powerfu...   \n",
              "\n",
              "    wordcount  result  result2  \n",
              "0          62       1        1  \n",
              "1         106       0        0  \n",
              "2          38       1        1  \n",
              "3         127       1        1  \n",
              "4          42       0        0  \n",
              "5         152       1        1  \n",
              "6          42       1        1  \n",
              "7          48       0        0  \n",
              "8          32       1        1  \n",
              "9         125       1        0  \n",
              "10         59       0        0  \n",
              "11         61       0        0  \n",
              "12        120       1        1  \n",
              "13         38       0        0  "
            ],
            "text/html": [
              "\n",
              "  <div id=\"df-e15f2cfd-23e6-406b-b2a0-a643d07b0725\">\n",
              "    <div class=\"colab-df-container\">\n",
              "      <div>\n",
              "<style scoped>\n",
              "    .dataframe tbody tr th:only-of-type {\n",
              "        vertical-align: middle;\n",
              "    }\n",
              "\n",
              "    .dataframe tbody tr th {\n",
              "        vertical-align: top;\n",
              "    }\n",
              "\n",
              "    .dataframe thead th {\n",
              "        text-align: right;\n",
              "    }\n",
              "</style>\n",
              "<table border=\"1\" class=\"dataframe\">\n",
              "  <thead>\n",
              "    <tr style=\"text-align: right;\">\n",
              "      <th></th>\n",
              "      <th>org_name</th>\n",
              "      <th>newD</th>\n",
              "      <th>wordcount</th>\n",
              "      <th>result</th>\n",
              "      <th>result2</th>\n",
              "    </tr>\n",
              "  </thead>\n",
              "  <tbody>\n",
              "    <tr>\n",
              "      <th>0</th>\n",
              "      <td>Vela Partners</td>\n",
              "      <td>partners san francisco-based investment firm, ...</td>\n",
              "      <td>62</td>\n",
              "      <td>1</td>\n",
              "      <td>1</td>\n",
              "    </tr>\n",
              "    <tr>\n",
              "      <th>1</th>\n",
              "      <td>DagKnows, Inc</td>\n",
              "      <td>seasoned bunch deep expertise designing enterp...</td>\n",
              "      <td>106</td>\n",
              "      <td>0</td>\n",
              "      <td>0</td>\n",
              "    </tr>\n",
              "    <tr>\n",
              "      <th>2</th>\n",
              "      <td>Polymer Search</td>\n",
              "      <td>data continues grow exponentially organization...</td>\n",
              "      <td>38</td>\n",
              "      <td>1</td>\n",
              "      <td>1</td>\n",
              "    </tr>\n",
              "    <tr>\n",
              "      <th>3</th>\n",
              "      <td>Lightup Data</td>\n",
              "      <td>next-generation data quality data observabilit...</td>\n",
              "      <td>127</td>\n",
              "      <td>1</td>\n",
              "      <td>1</td>\n",
              "    </tr>\n",
              "    <tr>\n",
              "      <th>4</th>\n",
              "      <td>Cartken</td>\n",
              "      <td>makes communities connected bridging distance ...</td>\n",
              "      <td>42</td>\n",
              "      <td>0</td>\n",
              "      <td>0</td>\n",
              "    </tr>\n",
              "    <tr>\n",
              "      <th>5</th>\n",
              "      <td>Meditopia</td>\n",
              "      <td>founded 2017, one worlds leading global mental...</td>\n",
              "      <td>152</td>\n",
              "      <td>1</td>\n",
              "      <td>1</td>\n",
              "    </tr>\n",
              "    <tr>\n",
              "      <th>6</th>\n",
              "      <td>Kuika Software</td>\n",
              "      <td>started journey 2015 democratize software deve...</td>\n",
              "      <td>42</td>\n",
              "      <td>1</td>\n",
              "      <td>1</td>\n",
              "    </tr>\n",
              "    <tr>\n",
              "      <th>7</th>\n",
              "      <td>Golden</td>\n",
              "      <td>developer self-constructing knowledge database...</td>\n",
              "      <td>48</td>\n",
              "      <td>0</td>\n",
              "      <td>0</td>\n",
              "    </tr>\n",
              "    <tr>\n",
              "      <th>8</th>\n",
              "      <td>Cerby</td>\n",
              "      <td>delivers zero trust architecture unmanageable ...</td>\n",
              "      <td>32</td>\n",
              "      <td>1</td>\n",
              "      <td>1</td>\n",
              "    </tr>\n",
              "    <tr>\n",
              "      <th>9</th>\n",
              "      <td>Phaidra</td>\n",
              "      <td>building future industrial automation.\\n\\nthe ...</td>\n",
              "      <td>125</td>\n",
              "      <td>1</td>\n",
              "      <td>0</td>\n",
              "    </tr>\n",
              "    <tr>\n",
              "      <th>10</th>\n",
              "      <td>CloudNatix</td>\n",
              "      <td>provider efficient infrastructure across multi...</td>\n",
              "      <td>59</td>\n",
              "      <td>0</td>\n",
              "      <td>0</td>\n",
              "    </tr>\n",
              "    <tr>\n",
              "      <th>11</th>\n",
              "      <td>Promoted</td>\n",
              "      <td>sort marketplace search promote best listings ...</td>\n",
              "      <td>61</td>\n",
              "      <td>0</td>\n",
              "      <td>0</td>\n",
              "    </tr>\n",
              "    <tr>\n",
              "      <th>12</th>\n",
              "      <td>Grabango</td>\n",
              "      <td>checkout-free technology existing, large-scale...</td>\n",
              "      <td>120</td>\n",
              "      <td>1</td>\n",
              "      <td>1</td>\n",
              "    </tr>\n",
              "    <tr>\n",
              "      <th>13</th>\n",
              "      <td>Protopie</td>\n",
              "      <td>prototyping interactions easy pie easy powerfu...</td>\n",
              "      <td>38</td>\n",
              "      <td>0</td>\n",
              "      <td>0</td>\n",
              "    </tr>\n",
              "  </tbody>\n",
              "</table>\n",
              "</div>\n",
              "      <button class=\"colab-df-convert\" onclick=\"convertToInteractive('df-e15f2cfd-23e6-406b-b2a0-a643d07b0725')\"\n",
              "              title=\"Convert this dataframe to an interactive table.\"\n",
              "              style=\"display:none;\">\n",
              "        \n",
              "  <svg xmlns=\"http://www.w3.org/2000/svg\" height=\"24px\"viewBox=\"0 0 24 24\"\n",
              "       width=\"24px\">\n",
              "    <path d=\"M0 0h24v24H0V0z\" fill=\"none\"/>\n",
              "    <path d=\"M18.56 5.44l.94 2.06.94-2.06 2.06-.94-2.06-.94-.94-2.06-.94 2.06-2.06.94zm-11 1L8.5 8.5l.94-2.06 2.06-.94-2.06-.94L8.5 2.5l-.94 2.06-2.06.94zm10 10l.94 2.06.94-2.06 2.06-.94-2.06-.94-.94-2.06-.94 2.06-2.06.94z\"/><path d=\"M17.41 7.96l-1.37-1.37c-.4-.4-.92-.59-1.43-.59-.52 0-1.04.2-1.43.59L10.3 9.45l-7.72 7.72c-.78.78-.78 2.05 0 2.83L4 21.41c.39.39.9.59 1.41.59.51 0 1.02-.2 1.41-.59l7.78-7.78 2.81-2.81c.8-.78.8-2.07 0-2.86zM5.41 20L4 18.59l7.72-7.72 1.47 1.35L5.41 20z\"/>\n",
              "  </svg>\n",
              "      </button>\n",
              "      \n",
              "  <style>\n",
              "    .colab-df-container {\n",
              "      display:flex;\n",
              "      flex-wrap:wrap;\n",
              "      gap: 12px;\n",
              "    }\n",
              "\n",
              "    .colab-df-convert {\n",
              "      background-color: #E8F0FE;\n",
              "      border: none;\n",
              "      border-radius: 50%;\n",
              "      cursor: pointer;\n",
              "      display: none;\n",
              "      fill: #1967D2;\n",
              "      height: 32px;\n",
              "      padding: 0 0 0 0;\n",
              "      width: 32px;\n",
              "    }\n",
              "\n",
              "    .colab-df-convert:hover {\n",
              "      background-color: #E2EBFA;\n",
              "      box-shadow: 0px 1px 2px rgba(60, 64, 67, 0.3), 0px 1px 3px 1px rgba(60, 64, 67, 0.15);\n",
              "      fill: #174EA6;\n",
              "    }\n",
              "\n",
              "    [theme=dark] .colab-df-convert {\n",
              "      background-color: #3B4455;\n",
              "      fill: #D2E3FC;\n",
              "    }\n",
              "\n",
              "    [theme=dark] .colab-df-convert:hover {\n",
              "      background-color: #434B5C;\n",
              "      box-shadow: 0px 1px 3px 1px rgba(0, 0, 0, 0.15);\n",
              "      filter: drop-shadow(0px 1px 2px rgba(0, 0, 0, 0.3));\n",
              "      fill: #FFFFFF;\n",
              "    }\n",
              "  </style>\n",
              "\n",
              "      <script>\n",
              "        const buttonEl =\n",
              "          document.querySelector('#df-e15f2cfd-23e6-406b-b2a0-a643d07b0725 button.colab-df-convert');\n",
              "        buttonEl.style.display =\n",
              "          google.colab.kernel.accessAllowed ? 'block' : 'none';\n",
              "\n",
              "        async function convertToInteractive(key) {\n",
              "          const element = document.querySelector('#df-e15f2cfd-23e6-406b-b2a0-a643d07b0725');\n",
              "          const dataTable =\n",
              "            await google.colab.kernel.invokeFunction('convertToInteractive',\n",
              "                                                     [key], {});\n",
              "          if (!dataTable) return;\n",
              "\n",
              "          const docLinkHtml = 'Like what you see? Visit the ' +\n",
              "            '<a target=\"_blank\" href=https://colab.research.google.com/notebooks/data_table.ipynb>data table notebook</a>'\n",
              "            + ' to learn more about interactive tables.';\n",
              "          element.innerHTML = '';\n",
              "          dataTable['output_type'] = 'display_data';\n",
              "          await google.colab.output.renderOutput(dataTable, element);\n",
              "          const docLink = document.createElement('div');\n",
              "          docLink.innerHTML = docLinkHtml;\n",
              "          element.appendChild(docLink);\n",
              "        }\n",
              "      </script>\n",
              "    </div>\n",
              "  </div>\n",
              "  "
            ]
          },
          "metadata": {},
          "execution_count": 105
        }
      ]
    },
    {
      "cell_type": "markdown",
      "source": [
        "A second model uses all data from both successful and unsuccessful dataset to train the model with the same neural network architecture"
      ],
      "metadata": {
        "id": "l20Q-uDbN-DV"
      },
      "id": "l20Q-uDbN-DV"
    },
    {
      "cell_type": "code",
      "source": [
        "model_all = create_model(NUM_WORDS, EMBEDDING_DIM, MAXLEN)\n",
        "history = model_all.fit(all_padded_seq, total.label, epochs=20)"
      ],
      "metadata": {
        "colab": {
          "base_uri": "https://localhost:8080/"
        },
        "id": "s6nVwP9Q69eK",
        "outputId": "c58bbdfa-9ef1-40ca-e857-23ed0235c27a"
      },
      "id": "s6nVwP9Q69eK",
      "execution_count": 106,
      "outputs": [
        {
          "output_type": "stream",
          "name": "stdout",
          "text": [
            "Epoch 1/20\n",
            "183/183 [==============================] - 3s 6ms/step - loss: 0.6609 - accuracy: 0.6310\n",
            "Epoch 2/20\n",
            "183/183 [==============================] - 1s 6ms/step - loss: 0.6642 - accuracy: 0.6310\n",
            "Epoch 3/20\n",
            "183/183 [==============================] - 1s 6ms/step - loss: 0.6604 - accuracy: 0.6310\n",
            "Epoch 4/20\n",
            "183/183 [==============================] - 1s 4ms/step - loss: 0.6493 - accuracy: 0.6310\n",
            "Epoch 5/20\n",
            "183/183 [==============================] - 1s 4ms/step - loss: 0.5960 - accuracy: 0.6815\n",
            "Epoch 6/20\n",
            "183/183 [==============================] - 1s 4ms/step - loss: 0.4179 - accuracy: 0.8342\n",
            "Epoch 7/20\n",
            "183/183 [==============================] - 1s 5ms/step - loss: 0.2570 - accuracy: 0.8975\n",
            "Epoch 8/20\n",
            "183/183 [==============================] - 1s 4ms/step - loss: 0.1902 - accuracy: 0.9244\n",
            "Epoch 9/20\n",
            "183/183 [==============================] - 1s 4ms/step - loss: 0.1541 - accuracy: 0.9398\n",
            "Epoch 10/20\n",
            "183/183 [==============================] - 1s 4ms/step - loss: 0.1248 - accuracy: 0.9514\n",
            "Epoch 11/20\n",
            "183/183 [==============================] - 1s 4ms/step - loss: 0.1008 - accuracy: 0.9623\n",
            "Epoch 12/20\n",
            "183/183 [==============================] - 1s 7ms/step - loss: 0.0845 - accuracy: 0.9692\n",
            "Epoch 13/20\n",
            "183/183 [==============================] - 1s 4ms/step - loss: 0.0687 - accuracy: 0.9764\n",
            "Epoch 14/20\n",
            "183/183 [==============================] - 1s 4ms/step - loss: 0.0595 - accuracy: 0.9786\n",
            "Epoch 15/20\n",
            "183/183 [==============================] - 1s 4ms/step - loss: 0.0483 - accuracy: 0.9834\n",
            "Epoch 16/20\n",
            "183/183 [==============================] - 1s 4ms/step - loss: 0.0384 - accuracy: 0.9882\n",
            "Epoch 17/20\n",
            "183/183 [==============================] - 1s 4ms/step - loss: 0.0330 - accuracy: 0.9901\n",
            "Epoch 18/20\n",
            "183/183 [==============================] - 1s 4ms/step - loss: 0.0279 - accuracy: 0.9906\n",
            "Epoch 19/20\n",
            "183/183 [==============================] - 1s 4ms/step - loss: 0.0235 - accuracy: 0.9918\n",
            "Epoch 20/20\n",
            "183/183 [==============================] - 1s 4ms/step - loss: 0.0213 - accuracy: 0.9933\n"
          ]
        }
      ]
    },
    {
      "cell_type": "markdown",
      "source": [
        "The result of the second model on the unknown outcome startups (labelled result2)"
      ],
      "metadata": {
        "id": "uB1DZrmYOMLR"
      },
      "id": "uB1DZrmYOMLR"
    },
    {
      "cell_type": "code",
      "source": [
        "u['result2']=np.argmax(model_all.predict(unknown_padded_seq), axis=-1)\n",
        "u"
      ],
      "metadata": {
        "colab": {
          "base_uri": "https://localhost:8080/",
          "height": 506
        },
        "id": "F3AqbBDO6LBO",
        "outputId": "9c7f3273-2e3b-454b-a74d-dbd937de89b4"
      },
      "id": "F3AqbBDO6LBO",
      "execution_count": 107,
      "outputs": [
        {
          "output_type": "stream",
          "name": "stdout",
          "text": [
            "1/1 [==============================] - 0s 73ms/step\n"
          ]
        },
        {
          "output_type": "execute_result",
          "data": {
            "text/plain": [
              "          org_name                                               newD  \\\n",
              "0    Vela Partners  partners san francisco-based investment firm, ...   \n",
              "1    DagKnows, Inc  seasoned bunch deep expertise designing enterp...   \n",
              "2   Polymer Search  data continues grow exponentially organization...   \n",
              "3     Lightup Data  next-generation data quality data observabilit...   \n",
              "4          Cartken  makes communities connected bridging distance ...   \n",
              "5        Meditopia  founded 2017, one worlds leading global mental...   \n",
              "6   Kuika Software  started journey 2015 democratize software deve...   \n",
              "7           Golden  developer self-constructing knowledge database...   \n",
              "8            Cerby  delivers zero trust architecture unmanageable ...   \n",
              "9          Phaidra  building future industrial automation.\\n\\nthe ...   \n",
              "10      CloudNatix  provider efficient infrastructure across multi...   \n",
              "11        Promoted  sort marketplace search promote best listings ...   \n",
              "12        Grabango  checkout-free technology existing, large-scale...   \n",
              "13        Protopie  prototyping interactions easy pie easy powerfu...   \n",
              "\n",
              "    wordcount  result  result2  \n",
              "0          62       1        1  \n",
              "1         106       0        0  \n",
              "2          38       1        1  \n",
              "3         127       1        1  \n",
              "4          42       0        0  \n",
              "5         152       1        1  \n",
              "6          42       1        1  \n",
              "7          48       0        0  \n",
              "8          32       1        1  \n",
              "9         125       1        0  \n",
              "10         59       0        0  \n",
              "11         61       0        0  \n",
              "12        120       1        1  \n",
              "13         38       0        0  "
            ],
            "text/html": [
              "\n",
              "  <div id=\"df-9843f19d-2331-47a8-8360-9ad3108f7270\">\n",
              "    <div class=\"colab-df-container\">\n",
              "      <div>\n",
              "<style scoped>\n",
              "    .dataframe tbody tr th:only-of-type {\n",
              "        vertical-align: middle;\n",
              "    }\n",
              "\n",
              "    .dataframe tbody tr th {\n",
              "        vertical-align: top;\n",
              "    }\n",
              "\n",
              "    .dataframe thead th {\n",
              "        text-align: right;\n",
              "    }\n",
              "</style>\n",
              "<table border=\"1\" class=\"dataframe\">\n",
              "  <thead>\n",
              "    <tr style=\"text-align: right;\">\n",
              "      <th></th>\n",
              "      <th>org_name</th>\n",
              "      <th>newD</th>\n",
              "      <th>wordcount</th>\n",
              "      <th>result</th>\n",
              "      <th>result2</th>\n",
              "    </tr>\n",
              "  </thead>\n",
              "  <tbody>\n",
              "    <tr>\n",
              "      <th>0</th>\n",
              "      <td>Vela Partners</td>\n",
              "      <td>partners san francisco-based investment firm, ...</td>\n",
              "      <td>62</td>\n",
              "      <td>1</td>\n",
              "      <td>1</td>\n",
              "    </tr>\n",
              "    <tr>\n",
              "      <th>1</th>\n",
              "      <td>DagKnows, Inc</td>\n",
              "      <td>seasoned bunch deep expertise designing enterp...</td>\n",
              "      <td>106</td>\n",
              "      <td>0</td>\n",
              "      <td>0</td>\n",
              "    </tr>\n",
              "    <tr>\n",
              "      <th>2</th>\n",
              "      <td>Polymer Search</td>\n",
              "      <td>data continues grow exponentially organization...</td>\n",
              "      <td>38</td>\n",
              "      <td>1</td>\n",
              "      <td>1</td>\n",
              "    </tr>\n",
              "    <tr>\n",
              "      <th>3</th>\n",
              "      <td>Lightup Data</td>\n",
              "      <td>next-generation data quality data observabilit...</td>\n",
              "      <td>127</td>\n",
              "      <td>1</td>\n",
              "      <td>1</td>\n",
              "    </tr>\n",
              "    <tr>\n",
              "      <th>4</th>\n",
              "      <td>Cartken</td>\n",
              "      <td>makes communities connected bridging distance ...</td>\n",
              "      <td>42</td>\n",
              "      <td>0</td>\n",
              "      <td>0</td>\n",
              "    </tr>\n",
              "    <tr>\n",
              "      <th>5</th>\n",
              "      <td>Meditopia</td>\n",
              "      <td>founded 2017, one worlds leading global mental...</td>\n",
              "      <td>152</td>\n",
              "      <td>1</td>\n",
              "      <td>1</td>\n",
              "    </tr>\n",
              "    <tr>\n",
              "      <th>6</th>\n",
              "      <td>Kuika Software</td>\n",
              "      <td>started journey 2015 democratize software deve...</td>\n",
              "      <td>42</td>\n",
              "      <td>1</td>\n",
              "      <td>1</td>\n",
              "    </tr>\n",
              "    <tr>\n",
              "      <th>7</th>\n",
              "      <td>Golden</td>\n",
              "      <td>developer self-constructing knowledge database...</td>\n",
              "      <td>48</td>\n",
              "      <td>0</td>\n",
              "      <td>0</td>\n",
              "    </tr>\n",
              "    <tr>\n",
              "      <th>8</th>\n",
              "      <td>Cerby</td>\n",
              "      <td>delivers zero trust architecture unmanageable ...</td>\n",
              "      <td>32</td>\n",
              "      <td>1</td>\n",
              "      <td>1</td>\n",
              "    </tr>\n",
              "    <tr>\n",
              "      <th>9</th>\n",
              "      <td>Phaidra</td>\n",
              "      <td>building future industrial automation.\\n\\nthe ...</td>\n",
              "      <td>125</td>\n",
              "      <td>1</td>\n",
              "      <td>0</td>\n",
              "    </tr>\n",
              "    <tr>\n",
              "      <th>10</th>\n",
              "      <td>CloudNatix</td>\n",
              "      <td>provider efficient infrastructure across multi...</td>\n",
              "      <td>59</td>\n",
              "      <td>0</td>\n",
              "      <td>0</td>\n",
              "    </tr>\n",
              "    <tr>\n",
              "      <th>11</th>\n",
              "      <td>Promoted</td>\n",
              "      <td>sort marketplace search promote best listings ...</td>\n",
              "      <td>61</td>\n",
              "      <td>0</td>\n",
              "      <td>0</td>\n",
              "    </tr>\n",
              "    <tr>\n",
              "      <th>12</th>\n",
              "      <td>Grabango</td>\n",
              "      <td>checkout-free technology existing, large-scale...</td>\n",
              "      <td>120</td>\n",
              "      <td>1</td>\n",
              "      <td>1</td>\n",
              "    </tr>\n",
              "    <tr>\n",
              "      <th>13</th>\n",
              "      <td>Protopie</td>\n",
              "      <td>prototyping interactions easy pie easy powerfu...</td>\n",
              "      <td>38</td>\n",
              "      <td>0</td>\n",
              "      <td>0</td>\n",
              "    </tr>\n",
              "  </tbody>\n",
              "</table>\n",
              "</div>\n",
              "      <button class=\"colab-df-convert\" onclick=\"convertToInteractive('df-9843f19d-2331-47a8-8360-9ad3108f7270')\"\n",
              "              title=\"Convert this dataframe to an interactive table.\"\n",
              "              style=\"display:none;\">\n",
              "        \n",
              "  <svg xmlns=\"http://www.w3.org/2000/svg\" height=\"24px\"viewBox=\"0 0 24 24\"\n",
              "       width=\"24px\">\n",
              "    <path d=\"M0 0h24v24H0V0z\" fill=\"none\"/>\n",
              "    <path d=\"M18.56 5.44l.94 2.06.94-2.06 2.06-.94-2.06-.94-.94-2.06-.94 2.06-2.06.94zm-11 1L8.5 8.5l.94-2.06 2.06-.94-2.06-.94L8.5 2.5l-.94 2.06-2.06.94zm10 10l.94 2.06.94-2.06 2.06-.94-2.06-.94-.94-2.06-.94 2.06-2.06.94z\"/><path d=\"M17.41 7.96l-1.37-1.37c-.4-.4-.92-.59-1.43-.59-.52 0-1.04.2-1.43.59L10.3 9.45l-7.72 7.72c-.78.78-.78 2.05 0 2.83L4 21.41c.39.39.9.59 1.41.59.51 0 1.02-.2 1.41-.59l7.78-7.78 2.81-2.81c.8-.78.8-2.07 0-2.86zM5.41 20L4 18.59l7.72-7.72 1.47 1.35L5.41 20z\"/>\n",
              "  </svg>\n",
              "      </button>\n",
              "      \n",
              "  <style>\n",
              "    .colab-df-container {\n",
              "      display:flex;\n",
              "      flex-wrap:wrap;\n",
              "      gap: 12px;\n",
              "    }\n",
              "\n",
              "    .colab-df-convert {\n",
              "      background-color: #E8F0FE;\n",
              "      border: none;\n",
              "      border-radius: 50%;\n",
              "      cursor: pointer;\n",
              "      display: none;\n",
              "      fill: #1967D2;\n",
              "      height: 32px;\n",
              "      padding: 0 0 0 0;\n",
              "      width: 32px;\n",
              "    }\n",
              "\n",
              "    .colab-df-convert:hover {\n",
              "      background-color: #E2EBFA;\n",
              "      box-shadow: 0px 1px 2px rgba(60, 64, 67, 0.3), 0px 1px 3px 1px rgba(60, 64, 67, 0.15);\n",
              "      fill: #174EA6;\n",
              "    }\n",
              "\n",
              "    [theme=dark] .colab-df-convert {\n",
              "      background-color: #3B4455;\n",
              "      fill: #D2E3FC;\n",
              "    }\n",
              "\n",
              "    [theme=dark] .colab-df-convert:hover {\n",
              "      background-color: #434B5C;\n",
              "      box-shadow: 0px 1px 3px 1px rgba(0, 0, 0, 0.15);\n",
              "      filter: drop-shadow(0px 1px 2px rgba(0, 0, 0, 0.3));\n",
              "      fill: #FFFFFF;\n",
              "    }\n",
              "  </style>\n",
              "\n",
              "      <script>\n",
              "        const buttonEl =\n",
              "          document.querySelector('#df-9843f19d-2331-47a8-8360-9ad3108f7270 button.colab-df-convert');\n",
              "        buttonEl.style.display =\n",
              "          google.colab.kernel.accessAllowed ? 'block' : 'none';\n",
              "\n",
              "        async function convertToInteractive(key) {\n",
              "          const element = document.querySelector('#df-9843f19d-2331-47a8-8360-9ad3108f7270');\n",
              "          const dataTable =\n",
              "            await google.colab.kernel.invokeFunction('convertToInteractive',\n",
              "                                                     [key], {});\n",
              "          if (!dataTable) return;\n",
              "\n",
              "          const docLinkHtml = 'Like what you see? Visit the ' +\n",
              "            '<a target=\"_blank\" href=https://colab.research.google.com/notebooks/data_table.ipynb>data table notebook</a>'\n",
              "            + ' to learn more about interactive tables.';\n",
              "          element.innerHTML = '';\n",
              "          dataTable['output_type'] = 'display_data';\n",
              "          await google.colab.output.renderOutput(dataTable, element);\n",
              "          const docLink = document.createElement('div');\n",
              "          docLink.innerHTML = docLinkHtml;\n",
              "          element.appendChild(docLink);\n",
              "        }\n",
              "      </script>\n",
              "    </div>\n",
              "  </div>\n",
              "  "
            ]
          },
          "metadata": {},
          "execution_count": 107
        }
      ]
    }
  ],
  "metadata": {
    "kernelspec": {
      "display_name": "Python 3 (ipykernel)",
      "language": "python",
      "name": "python3"
    },
    "language_info": {
      "codemirror_mode": {
        "name": "ipython",
        "version": 3
      },
      "file_extension": ".py",
      "mimetype": "text/x-python",
      "name": "python",
      "nbconvert_exporter": "python",
      "pygments_lexer": "ipython3",
      "version": "3.9.12"
    },
    "colab": {
      "provenance": []
    }
  },
  "nbformat": 4,
  "nbformat_minor": 5
}