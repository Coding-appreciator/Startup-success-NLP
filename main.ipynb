{
  "cells": [
    {
      "cell_type": "markdown",
      "source": [
        "# **Natural language processing on early-stage companies’description to predict future success**\n",
        "**Context**"
      ],
      "metadata": {
        "id": "EP29Lx_Xn3nt"
      },
      "id": "EP29Lx_Xn3nt"
    },
    {
      "cell_type": "markdown",
      "source": [
        "VCs invest on startups strategically to earn money. To generate maximum return, it is important to invest on startups that are more likely to succeed. Given the unique challenges each startup faces, one could turn for data-driven insights for making investment choices."
      ],
      "metadata": {
        "id": "Au6UMURpoZCd"
      },
      "id": "Au6UMURpoZCd"
    },
    {
      "cell_type": "markdown",
      "source": [
        "# **Data Processing**"
      ],
      "metadata": {
        "id": "VZOT8PAFZ3J8"
      },
      "id": "VZOT8PAFZ3J8"
    },
    {
      "cell_type": "code",
      "execution_count": null,
      "id": "50bda3f4",
      "metadata": {
        "id": "50bda3f4"
      },
      "outputs": [],
      "source": [
        "import numpy as np\n",
        "import pandas as pd\n",
        "import seaborn as sns\n",
        "import matplotlib.pyplot as plt\n",
        "%matplotlib inline\n",
        "import tensorflow as tf\n",
        "import warnings\n",
        "warnings.filterwarnings(\"ignore\")\n",
        "# To get diferent metric scores\n",
        "from sklearn.metrics import confusion_matrix,classification_report,plot_confusion_matrix"
      ]
    },
    {
      "cell_type": "code",
      "source": [
        "from google.colab import drive\n",
        "drive.mount('/content/drive')"
      ],
      "metadata": {
        "id": "dBRCRL-3WHkJ",
        "colab": {
          "base_uri": "https://localhost:8080/"
        },
        "outputId": "0c205e95-8e94-43d4-a43c-3b3f0b99d42b"
      },
      "id": "dBRCRL-3WHkJ",
      "execution_count": null,
      "outputs": [
        {
          "output_type": "stream",
          "name": "stdout",
          "text": [
            "Mounted at /content/drive\n"
          ]
        }
      ]
    },
    {
      "cell_type": "markdown",
      "source": [
        "Loading successful(s for successful) startup dataset"
      ],
      "metadata": {
        "id": "mtMk0lTH2kWq"
      },
      "id": "mtMk0lTH2kWq"
    },
    {
      "cell_type": "code",
      "execution_count": null,
      "id": "19dcc27c",
      "metadata": {
        "id": "19dcc27c"
      },
      "outputs": [],
      "source": [
        "s = pd.read_excel(\"/content/drive/My Drive/Vela Partners/Datasets/successful.xlsx\", sheet_name = 'Long company descriptions')"
      ]
    },
    {
      "cell_type": "markdown",
      "source": [
        "Focus on long company description, showing the first 10 records of s"
      ],
      "metadata": {
        "id": "YdFrTLjh25Ru"
      },
      "id": "YdFrTLjh25Ru"
    },
    {
      "cell_type": "code",
      "source": [
        "s.head(10)"
      ],
      "metadata": {
        "id": "Wdl2_qFE1Ykx",
        "colab": {
          "base_uri": "https://localhost:8080/",
          "height": 363
        },
        "outputId": "3dca6f69-649d-4346-dab8-f3544e5ba7f7"
      },
      "id": "Wdl2_qFE1Ykx",
      "execution_count": null,
      "outputs": [
        {
          "output_type": "execute_result",
          "data": {
            "text/plain": [
              "                    org_name                              org_uuid  \\\n",
              "0                10X Banking  a2323b6c-29b9-4750-905c-cdcbd9ce92b8   \n",
              "1               10X Genomics  cf3b00cf-ffbf-0e4f-6427-a60e5060de39   \n",
              "2                  111, Inc.  0680987f-23cd-4fa5-850c-38326fffaa36   \n",
              "3                    17zuoye  a79a6ae8-3c74-0db7-7e6b-b4f7662d37e8   \n",
              "4                  1Komma5¬∞  1ca6a7b3-465b-443d-9028-388cfd1ad060   \n",
              "5                      1inch  8e5b2628-6d2b-4f0a-9808-07c935156515   \n",
              "6                360Learning  0995a94f-0661-0db6-fcae-cbb89937c945   \n",
              "7               3D Medicines  73588380-c823-48db-9139-31c17b38862b   \n",
              "8  4D Molecular Therapeutics  310235fd-88ee-87dd-d394-b71762ba2431   \n",
              "9                4G Clinical  e94407ea-d3a5-0f75-f3d0-30ab8a43ac44   \n",
              "\n",
              "                                    long_description  \n",
              "0  10x Banking (10x), a financial services techno...  \n",
              "1  10x Genomics is creating revolutionary DNA seq...  \n",
              "2  111,Inc. is a leading digital and mobile healt...  \n",
              "3  17zuoye is an online learning platform for K-1...  \n",
              "4  KOMMA5 ¬∞ offers all owners of electric vehicl...  \n",
              "5  1inch Limited builds decentralized protocols a...  \n",
              "6  360Learning develops a collaborative learning ...  \n",
              "7  3D Medicines, we use individual‚Äôs genetic in...  \n",
              "8  4D Molecular Therapeutics is a biotechnology c...  \n",
              "9  4G Clinical provides software and services for...  "
            ],
            "text/html": [
              "\n",
              "  <div id=\"df-d31285bc-9386-4c30-9a39-2920f9617544\">\n",
              "    <div class=\"colab-df-container\">\n",
              "      <div>\n",
              "<style scoped>\n",
              "    .dataframe tbody tr th:only-of-type {\n",
              "        vertical-align: middle;\n",
              "    }\n",
              "\n",
              "    .dataframe tbody tr th {\n",
              "        vertical-align: top;\n",
              "    }\n",
              "\n",
              "    .dataframe thead th {\n",
              "        text-align: right;\n",
              "    }\n",
              "</style>\n",
              "<table border=\"1\" class=\"dataframe\">\n",
              "  <thead>\n",
              "    <tr style=\"text-align: right;\">\n",
              "      <th></th>\n",
              "      <th>org_name</th>\n",
              "      <th>org_uuid</th>\n",
              "      <th>long_description</th>\n",
              "    </tr>\n",
              "  </thead>\n",
              "  <tbody>\n",
              "    <tr>\n",
              "      <th>0</th>\n",
              "      <td>10X Banking</td>\n",
              "      <td>a2323b6c-29b9-4750-905c-cdcbd9ce92b8</td>\n",
              "      <td>10x Banking (10x), a financial services techno...</td>\n",
              "    </tr>\n",
              "    <tr>\n",
              "      <th>1</th>\n",
              "      <td>10X Genomics</td>\n",
              "      <td>cf3b00cf-ffbf-0e4f-6427-a60e5060de39</td>\n",
              "      <td>10x Genomics is creating revolutionary DNA seq...</td>\n",
              "    </tr>\n",
              "    <tr>\n",
              "      <th>2</th>\n",
              "      <td>111, Inc.</td>\n",
              "      <td>0680987f-23cd-4fa5-850c-38326fffaa36</td>\n",
              "      <td>111,Inc. is a leading digital and mobile healt...</td>\n",
              "    </tr>\n",
              "    <tr>\n",
              "      <th>3</th>\n",
              "      <td>17zuoye</td>\n",
              "      <td>a79a6ae8-3c74-0db7-7e6b-b4f7662d37e8</td>\n",
              "      <td>17zuoye is an online learning platform for K-1...</td>\n",
              "    </tr>\n",
              "    <tr>\n",
              "      <th>4</th>\n",
              "      <td>1Komma5¬∞</td>\n",
              "      <td>1ca6a7b3-465b-443d-9028-388cfd1ad060</td>\n",
              "      <td>KOMMA5 ¬∞ offers all owners of electric vehicl...</td>\n",
              "    </tr>\n",
              "    <tr>\n",
              "      <th>5</th>\n",
              "      <td>1inch</td>\n",
              "      <td>8e5b2628-6d2b-4f0a-9808-07c935156515</td>\n",
              "      <td>1inch Limited builds decentralized protocols a...</td>\n",
              "    </tr>\n",
              "    <tr>\n",
              "      <th>6</th>\n",
              "      <td>360Learning</td>\n",
              "      <td>0995a94f-0661-0db6-fcae-cbb89937c945</td>\n",
              "      <td>360Learning develops a collaborative learning ...</td>\n",
              "    </tr>\n",
              "    <tr>\n",
              "      <th>7</th>\n",
              "      <td>3D Medicines</td>\n",
              "      <td>73588380-c823-48db-9139-31c17b38862b</td>\n",
              "      <td>3D Medicines, we use individual‚Äôs genetic in...</td>\n",
              "    </tr>\n",
              "    <tr>\n",
              "      <th>8</th>\n",
              "      <td>4D Molecular Therapeutics</td>\n",
              "      <td>310235fd-88ee-87dd-d394-b71762ba2431</td>\n",
              "      <td>4D Molecular Therapeutics is a biotechnology c...</td>\n",
              "    </tr>\n",
              "    <tr>\n",
              "      <th>9</th>\n",
              "      <td>4G Clinical</td>\n",
              "      <td>e94407ea-d3a5-0f75-f3d0-30ab8a43ac44</td>\n",
              "      <td>4G Clinical provides software and services for...</td>\n",
              "    </tr>\n",
              "  </tbody>\n",
              "</table>\n",
              "</div>\n",
              "      <button class=\"colab-df-convert\" onclick=\"convertToInteractive('df-d31285bc-9386-4c30-9a39-2920f9617544')\"\n",
              "              title=\"Convert this dataframe to an interactive table.\"\n",
              "              style=\"display:none;\">\n",
              "        \n",
              "  <svg xmlns=\"http://www.w3.org/2000/svg\" height=\"24px\"viewBox=\"0 0 24 24\"\n",
              "       width=\"24px\">\n",
              "    <path d=\"M0 0h24v24H0V0z\" fill=\"none\"/>\n",
              "    <path d=\"M18.56 5.44l.94 2.06.94-2.06 2.06-.94-2.06-.94-.94-2.06-.94 2.06-2.06.94zm-11 1L8.5 8.5l.94-2.06 2.06-.94-2.06-.94L8.5 2.5l-.94 2.06-2.06.94zm10 10l.94 2.06.94-2.06 2.06-.94-2.06-.94-.94-2.06-.94 2.06-2.06.94z\"/><path d=\"M17.41 7.96l-1.37-1.37c-.4-.4-.92-.59-1.43-.59-.52 0-1.04.2-1.43.59L10.3 9.45l-7.72 7.72c-.78.78-.78 2.05 0 2.83L4 21.41c.39.39.9.59 1.41.59.51 0 1.02-.2 1.41-.59l7.78-7.78 2.81-2.81c.8-.78.8-2.07 0-2.86zM5.41 20L4 18.59l7.72-7.72 1.47 1.35L5.41 20z\"/>\n",
              "  </svg>\n",
              "      </button>\n",
              "      \n",
              "  <style>\n",
              "    .colab-df-container {\n",
              "      display:flex;\n",
              "      flex-wrap:wrap;\n",
              "      gap: 12px;\n",
              "    }\n",
              "\n",
              "    .colab-df-convert {\n",
              "      background-color: #E8F0FE;\n",
              "      border: none;\n",
              "      border-radius: 50%;\n",
              "      cursor: pointer;\n",
              "      display: none;\n",
              "      fill: #1967D2;\n",
              "      height: 32px;\n",
              "      padding: 0 0 0 0;\n",
              "      width: 32px;\n",
              "    }\n",
              "\n",
              "    .colab-df-convert:hover {\n",
              "      background-color: #E2EBFA;\n",
              "      box-shadow: 0px 1px 2px rgba(60, 64, 67, 0.3), 0px 1px 3px 1px rgba(60, 64, 67, 0.15);\n",
              "      fill: #174EA6;\n",
              "    }\n",
              "\n",
              "    [theme=dark] .colab-df-convert {\n",
              "      background-color: #3B4455;\n",
              "      fill: #D2E3FC;\n",
              "    }\n",
              "\n",
              "    [theme=dark] .colab-df-convert:hover {\n",
              "      background-color: #434B5C;\n",
              "      box-shadow: 0px 1px 3px 1px rgba(0, 0, 0, 0.15);\n",
              "      filter: drop-shadow(0px 1px 2px rgba(0, 0, 0, 0.3));\n",
              "      fill: #FFFFFF;\n",
              "    }\n",
              "  </style>\n",
              "\n",
              "      <script>\n",
              "        const buttonEl =\n",
              "          document.querySelector('#df-d31285bc-9386-4c30-9a39-2920f9617544 button.colab-df-convert');\n",
              "        buttonEl.style.display =\n",
              "          google.colab.kernel.accessAllowed ? 'block' : 'none';\n",
              "\n",
              "        async function convertToInteractive(key) {\n",
              "          const element = document.querySelector('#df-d31285bc-9386-4c30-9a39-2920f9617544');\n",
              "          const dataTable =\n",
              "            await google.colab.kernel.invokeFunction('convertToInteractive',\n",
              "                                                     [key], {});\n",
              "          if (!dataTable) return;\n",
              "\n",
              "          const docLinkHtml = 'Like what you see? Visit the ' +\n",
              "            '<a target=\"_blank\" href=https://colab.research.google.com/notebooks/data_table.ipynb>data table notebook</a>'\n",
              "            + ' to learn more about interactive tables.';\n",
              "          element.innerHTML = '';\n",
              "          dataTable['output_type'] = 'display_data';\n",
              "          await google.colab.output.renderOutput(dataTable, element);\n",
              "          const docLink = document.createElement('div');\n",
              "          docLink.innerHTML = docLinkHtml;\n",
              "          element.appendChild(docLink);\n",
              "        }\n",
              "      </script>\n",
              "    </div>\n",
              "  </div>\n",
              "  "
            ]
          },
          "metadata": {},
          "execution_count": 4
        }
      ]
    },
    {
      "cell_type": "code",
      "source": [
        "s[s.duplicated()]"
      ],
      "metadata": {
        "colab": {
          "base_uri": "https://localhost:8080/",
          "height": 49
        },
        "id": "Sd9BdzQ11mg1",
        "outputId": "33de8864-8660-4ce9-aaa3-78179c21f69b"
      },
      "id": "Sd9BdzQ11mg1",
      "execution_count": null,
      "outputs": [
        {
          "output_type": "execute_result",
          "data": {
            "text/plain": [
              "Empty DataFrame\n",
              "Columns: [org_name, org_uuid, long_description]\n",
              "Index: []"
            ],
            "text/html": [
              "\n",
              "  <div id=\"df-38da0088-f460-4a3b-b266-d691363f29ae\">\n",
              "    <div class=\"colab-df-container\">\n",
              "      <div>\n",
              "<style scoped>\n",
              "    .dataframe tbody tr th:only-of-type {\n",
              "        vertical-align: middle;\n",
              "    }\n",
              "\n",
              "    .dataframe tbody tr th {\n",
              "        vertical-align: top;\n",
              "    }\n",
              "\n",
              "    .dataframe thead th {\n",
              "        text-align: right;\n",
              "    }\n",
              "</style>\n",
              "<table border=\"1\" class=\"dataframe\">\n",
              "  <thead>\n",
              "    <tr style=\"text-align: right;\">\n",
              "      <th></th>\n",
              "      <th>org_name</th>\n",
              "      <th>org_uuid</th>\n",
              "      <th>long_description</th>\n",
              "    </tr>\n",
              "  </thead>\n",
              "  <tbody>\n",
              "  </tbody>\n",
              "</table>\n",
              "</div>\n",
              "      <button class=\"colab-df-convert\" onclick=\"convertToInteractive('df-38da0088-f460-4a3b-b266-d691363f29ae')\"\n",
              "              title=\"Convert this dataframe to an interactive table.\"\n",
              "              style=\"display:none;\">\n",
              "        \n",
              "  <svg xmlns=\"http://www.w3.org/2000/svg\" height=\"24px\"viewBox=\"0 0 24 24\"\n",
              "       width=\"24px\">\n",
              "    <path d=\"M0 0h24v24H0V0z\" fill=\"none\"/>\n",
              "    <path d=\"M18.56 5.44l.94 2.06.94-2.06 2.06-.94-2.06-.94-.94-2.06-.94 2.06-2.06.94zm-11 1L8.5 8.5l.94-2.06 2.06-.94-2.06-.94L8.5 2.5l-.94 2.06-2.06.94zm10 10l.94 2.06.94-2.06 2.06-.94-2.06-.94-.94-2.06-.94 2.06-2.06.94z\"/><path d=\"M17.41 7.96l-1.37-1.37c-.4-.4-.92-.59-1.43-.59-.52 0-1.04.2-1.43.59L10.3 9.45l-7.72 7.72c-.78.78-.78 2.05 0 2.83L4 21.41c.39.39.9.59 1.41.59.51 0 1.02-.2 1.41-.59l7.78-7.78 2.81-2.81c.8-.78.8-2.07 0-2.86zM5.41 20L4 18.59l7.72-7.72 1.47 1.35L5.41 20z\"/>\n",
              "  </svg>\n",
              "      </button>\n",
              "      \n",
              "  <style>\n",
              "    .colab-df-container {\n",
              "      display:flex;\n",
              "      flex-wrap:wrap;\n",
              "      gap: 12px;\n",
              "    }\n",
              "\n",
              "    .colab-df-convert {\n",
              "      background-color: #E8F0FE;\n",
              "      border: none;\n",
              "      border-radius: 50%;\n",
              "      cursor: pointer;\n",
              "      display: none;\n",
              "      fill: #1967D2;\n",
              "      height: 32px;\n",
              "      padding: 0 0 0 0;\n",
              "      width: 32px;\n",
              "    }\n",
              "\n",
              "    .colab-df-convert:hover {\n",
              "      background-color: #E2EBFA;\n",
              "      box-shadow: 0px 1px 2px rgba(60, 64, 67, 0.3), 0px 1px 3px 1px rgba(60, 64, 67, 0.15);\n",
              "      fill: #174EA6;\n",
              "    }\n",
              "\n",
              "    [theme=dark] .colab-df-convert {\n",
              "      background-color: #3B4455;\n",
              "      fill: #D2E3FC;\n",
              "    }\n",
              "\n",
              "    [theme=dark] .colab-df-convert:hover {\n",
              "      background-color: #434B5C;\n",
              "      box-shadow: 0px 1px 3px 1px rgba(0, 0, 0, 0.15);\n",
              "      filter: drop-shadow(0px 1px 2px rgba(0, 0, 0, 0.3));\n",
              "      fill: #FFFFFF;\n",
              "    }\n",
              "  </style>\n",
              "\n",
              "      <script>\n",
              "        const buttonEl =\n",
              "          document.querySelector('#df-38da0088-f460-4a3b-b266-d691363f29ae button.colab-df-convert');\n",
              "        buttonEl.style.display =\n",
              "          google.colab.kernel.accessAllowed ? 'block' : 'none';\n",
              "\n",
              "        async function convertToInteractive(key) {\n",
              "          const element = document.querySelector('#df-38da0088-f460-4a3b-b266-d691363f29ae');\n",
              "          const dataTable =\n",
              "            await google.colab.kernel.invokeFunction('convertToInteractive',\n",
              "                                                     [key], {});\n",
              "          if (!dataTable) return;\n",
              "\n",
              "          const docLinkHtml = 'Like what you see? Visit the ' +\n",
              "            '<a target=\"_blank\" href=https://colab.research.google.com/notebooks/data_table.ipynb>data table notebook</a>'\n",
              "            + ' to learn more about interactive tables.';\n",
              "          element.innerHTML = '';\n",
              "          dataTable['output_type'] = 'display_data';\n",
              "          await google.colab.output.renderOutput(dataTable, element);\n",
              "          const docLink = document.createElement('div');\n",
              "          docLink.innerHTML = docLinkHtml;\n",
              "          element.appendChild(docLink);\n",
              "        }\n",
              "      </script>\n",
              "    </div>\n",
              "  </div>\n",
              "  "
            ]
          },
          "metadata": {},
          "execution_count": 5
        }
      ]
    },
    {
      "cell_type": "markdown",
      "source": [
        "There are no duplicated entries in s_2."
      ],
      "metadata": {
        "id": "-Db0StZ851Dq"
      },
      "id": "-Db0StZ851Dq"
    },
    {
      "cell_type": "code",
      "source": [
        "s.isnull().values.any()"
      ],
      "metadata": {
        "colab": {
          "base_uri": "https://localhost:8080/"
        },
        "id": "g4o0ut7v66kM",
        "outputId": "3100855f-f0b9-4d79-b228-ebf6b0245686"
      },
      "id": "g4o0ut7v66kM",
      "execution_count": null,
      "outputs": [
        {
          "output_type": "execute_result",
          "data": {
            "text/plain": [
              "False"
            ]
          },
          "metadata": {},
          "execution_count": 6
        }
      ]
    },
    {
      "cell_type": "markdown",
      "source": [
        "There are no missing values in s_2"
      ],
      "metadata": {
        "id": "Xjr_PJOh6-bH"
      },
      "id": "Xjr_PJOh6-bH"
    },
    {
      "cell_type": "code",
      "source": [
        "s.shape[0]"
      ],
      "metadata": {
        "colab": {
          "base_uri": "https://localhost:8080/"
        },
        "id": "3CUL8tZQOtmG",
        "outputId": "4c4a9ea4-568b-4297-c338-841cf58c6d34"
      },
      "id": "3CUL8tZQOtmG",
      "execution_count": null,
      "outputs": [
        {
          "output_type": "execute_result",
          "data": {
            "text/plain": [
              "2156"
            ]
          },
          "metadata": {},
          "execution_count": 7
        }
      ]
    },
    {
      "cell_type": "markdown",
      "source": [
        "There are 2156 successful entries"
      ],
      "metadata": {
        "id": "b1Iqk91TO3ux"
      },
      "id": "b1Iqk91TO3ux"
    },
    {
      "cell_type": "markdown",
      "source": [
        "Loading unsuccessful(f for fail) startup dataset"
      ],
      "metadata": {
        "id": "rF0ROS4MIsHb"
      },
      "id": "rF0ROS4MIsHb"
    },
    {
      "cell_type": "code",
      "execution_count": null,
      "id": "18baf286",
      "metadata": {
        "id": "18baf286"
      },
      "outputs": [],
      "source": [
        "f = pd.read_excel(\"/content/drive/My Drive/Vela Partners/Datasets/unsuccessful.xlsx\", sheet_name = 'Long company descriptions')\n"
      ]
    },
    {
      "cell_type": "markdown",
      "source": [
        "The first 10 entries of failed startups long description"
      ],
      "metadata": {
        "id": "NZWGbg0w6TII"
      },
      "id": "NZWGbg0w6TII"
    },
    {
      "cell_type": "code",
      "source": [
        "f.head(10)"
      ],
      "metadata": {
        "colab": {
          "base_uri": "https://localhost:8080/",
          "height": 363
        },
        "id": "3MX01F266P7v",
        "outputId": "fa0fd17a-df37-422a-80f1-d003cdbd9365"
      },
      "id": "3MX01F266P7v",
      "execution_count": null,
      "outputs": [
        {
          "output_type": "execute_result",
          "data": {
            "text/plain": [
              "            org_name                              org_uuid  \\\n",
              "0      .Club Domains  477b73e7-f956-955d-06c0-2dc705a7e6de   \n",
              "1             0glass  0ae0c059-31ac-4979-132f-352b31a6d448   \n",
              "2           100offer  0cebce5a-3efc-dd27-5ce6-a42245a79cf9   \n",
              "3            101 Edu  934bd25a-4b91-9d78-12c3-524c679d3e69   \n",
              "4             17hats  c852c5d3-220d-2eb6-c78e-3c9148430ce4   \n",
              "5   1928 Diagnostics  e862bea8-d437-2370-6ccc-b117d5549e51   \n",
              "6         1939 Games  87366b68-8997-b2e3-a601-bb37ee89a1fd   \n",
              "7              1DOC3  474524a8-5ffa-8ef9-a4c9-3effe64e21e0   \n",
              "8  1Drop Diagnostics  df4774f0-cfd6-e0f7-abae-0394e7c658ef   \n",
              "9            1Huddle  51e4aae5-6ad5-e054-317b-7428bffd0870   \n",
              "\n",
              "                                    long_description  \n",
              "0  .Club Domains is a domain extension for the so...  \n",
              "1  0glass is the first high-tech company to apply...  \n",
              "2  100offer is an opportunity marketplace for tal...  \n",
              "3  101 builds mobile-first teaching and assessmen...  \n",
              "4  17hats has become the small business owners ch...  \n",
              "5  1928 Diagnostics is a digital health company, ...  \n",
              "6  1939 Games is a indie game development studio ...  \n",
              "7  1doc3 is a e-health platform that connects 490...  \n",
              "8  1Drop Diagnostics is a cutting edge medical di...  \n",
              "9  Today, companies struggle to onboard, upskill ...  "
            ],
            "text/html": [
              "\n",
              "  <div id=\"df-f5de83ce-ff66-417d-b987-37d321ef2580\">\n",
              "    <div class=\"colab-df-container\">\n",
              "      <div>\n",
              "<style scoped>\n",
              "    .dataframe tbody tr th:only-of-type {\n",
              "        vertical-align: middle;\n",
              "    }\n",
              "\n",
              "    .dataframe tbody tr th {\n",
              "        vertical-align: top;\n",
              "    }\n",
              "\n",
              "    .dataframe thead th {\n",
              "        text-align: right;\n",
              "    }\n",
              "</style>\n",
              "<table border=\"1\" class=\"dataframe\">\n",
              "  <thead>\n",
              "    <tr style=\"text-align: right;\">\n",
              "      <th></th>\n",
              "      <th>org_name</th>\n",
              "      <th>org_uuid</th>\n",
              "      <th>long_description</th>\n",
              "    </tr>\n",
              "  </thead>\n",
              "  <tbody>\n",
              "    <tr>\n",
              "      <th>0</th>\n",
              "      <td>.Club Domains</td>\n",
              "      <td>477b73e7-f956-955d-06c0-2dc705a7e6de</td>\n",
              "      <td>.Club Domains is a domain extension for the so...</td>\n",
              "    </tr>\n",
              "    <tr>\n",
              "      <th>1</th>\n",
              "      <td>0glass</td>\n",
              "      <td>0ae0c059-31ac-4979-132f-352b31a6d448</td>\n",
              "      <td>0glass is the first high-tech company to apply...</td>\n",
              "    </tr>\n",
              "    <tr>\n",
              "      <th>2</th>\n",
              "      <td>100offer</td>\n",
              "      <td>0cebce5a-3efc-dd27-5ce6-a42245a79cf9</td>\n",
              "      <td>100offer is an opportunity marketplace for tal...</td>\n",
              "    </tr>\n",
              "    <tr>\n",
              "      <th>3</th>\n",
              "      <td>101 Edu</td>\n",
              "      <td>934bd25a-4b91-9d78-12c3-524c679d3e69</td>\n",
              "      <td>101 builds mobile-first teaching and assessmen...</td>\n",
              "    </tr>\n",
              "    <tr>\n",
              "      <th>4</th>\n",
              "      <td>17hats</td>\n",
              "      <td>c852c5d3-220d-2eb6-c78e-3c9148430ce4</td>\n",
              "      <td>17hats has become the small business owners ch...</td>\n",
              "    </tr>\n",
              "    <tr>\n",
              "      <th>5</th>\n",
              "      <td>1928 Diagnostics</td>\n",
              "      <td>e862bea8-d437-2370-6ccc-b117d5549e51</td>\n",
              "      <td>1928 Diagnostics is a digital health company, ...</td>\n",
              "    </tr>\n",
              "    <tr>\n",
              "      <th>6</th>\n",
              "      <td>1939 Games</td>\n",
              "      <td>87366b68-8997-b2e3-a601-bb37ee89a1fd</td>\n",
              "      <td>1939 Games is a indie game development studio ...</td>\n",
              "    </tr>\n",
              "    <tr>\n",
              "      <th>7</th>\n",
              "      <td>1DOC3</td>\n",
              "      <td>474524a8-5ffa-8ef9-a4c9-3effe64e21e0</td>\n",
              "      <td>1doc3 is a e-health platform that connects 490...</td>\n",
              "    </tr>\n",
              "    <tr>\n",
              "      <th>8</th>\n",
              "      <td>1Drop Diagnostics</td>\n",
              "      <td>df4774f0-cfd6-e0f7-abae-0394e7c658ef</td>\n",
              "      <td>1Drop Diagnostics is a cutting edge medical di...</td>\n",
              "    </tr>\n",
              "    <tr>\n",
              "      <th>9</th>\n",
              "      <td>1Huddle</td>\n",
              "      <td>51e4aae5-6ad5-e054-317b-7428bffd0870</td>\n",
              "      <td>Today, companies struggle to onboard, upskill ...</td>\n",
              "    </tr>\n",
              "  </tbody>\n",
              "</table>\n",
              "</div>\n",
              "      <button class=\"colab-df-convert\" onclick=\"convertToInteractive('df-f5de83ce-ff66-417d-b987-37d321ef2580')\"\n",
              "              title=\"Convert this dataframe to an interactive table.\"\n",
              "              style=\"display:none;\">\n",
              "        \n",
              "  <svg xmlns=\"http://www.w3.org/2000/svg\" height=\"24px\"viewBox=\"0 0 24 24\"\n",
              "       width=\"24px\">\n",
              "    <path d=\"M0 0h24v24H0V0z\" fill=\"none\"/>\n",
              "    <path d=\"M18.56 5.44l.94 2.06.94-2.06 2.06-.94-2.06-.94-.94-2.06-.94 2.06-2.06.94zm-11 1L8.5 8.5l.94-2.06 2.06-.94-2.06-.94L8.5 2.5l-.94 2.06-2.06.94zm10 10l.94 2.06.94-2.06 2.06-.94-2.06-.94-.94-2.06-.94 2.06-2.06.94z\"/><path d=\"M17.41 7.96l-1.37-1.37c-.4-.4-.92-.59-1.43-.59-.52 0-1.04.2-1.43.59L10.3 9.45l-7.72 7.72c-.78.78-.78 2.05 0 2.83L4 21.41c.39.39.9.59 1.41.59.51 0 1.02-.2 1.41-.59l7.78-7.78 2.81-2.81c.8-.78.8-2.07 0-2.86zM5.41 20L4 18.59l7.72-7.72 1.47 1.35L5.41 20z\"/>\n",
              "  </svg>\n",
              "      </button>\n",
              "      \n",
              "  <style>\n",
              "    .colab-df-container {\n",
              "      display:flex;\n",
              "      flex-wrap:wrap;\n",
              "      gap: 12px;\n",
              "    }\n",
              "\n",
              "    .colab-df-convert {\n",
              "      background-color: #E8F0FE;\n",
              "      border: none;\n",
              "      border-radius: 50%;\n",
              "      cursor: pointer;\n",
              "      display: none;\n",
              "      fill: #1967D2;\n",
              "      height: 32px;\n",
              "      padding: 0 0 0 0;\n",
              "      width: 32px;\n",
              "    }\n",
              "\n",
              "    .colab-df-convert:hover {\n",
              "      background-color: #E2EBFA;\n",
              "      box-shadow: 0px 1px 2px rgba(60, 64, 67, 0.3), 0px 1px 3px 1px rgba(60, 64, 67, 0.15);\n",
              "      fill: #174EA6;\n",
              "    }\n",
              "\n",
              "    [theme=dark] .colab-df-convert {\n",
              "      background-color: #3B4455;\n",
              "      fill: #D2E3FC;\n",
              "    }\n",
              "\n",
              "    [theme=dark] .colab-df-convert:hover {\n",
              "      background-color: #434B5C;\n",
              "      box-shadow: 0px 1px 3px 1px rgba(0, 0, 0, 0.15);\n",
              "      filter: drop-shadow(0px 1px 2px rgba(0, 0, 0, 0.3));\n",
              "      fill: #FFFFFF;\n",
              "    }\n",
              "  </style>\n",
              "\n",
              "      <script>\n",
              "        const buttonEl =\n",
              "          document.querySelector('#df-f5de83ce-ff66-417d-b987-37d321ef2580 button.colab-df-convert');\n",
              "        buttonEl.style.display =\n",
              "          google.colab.kernel.accessAllowed ? 'block' : 'none';\n",
              "\n",
              "        async function convertToInteractive(key) {\n",
              "          const element = document.querySelector('#df-f5de83ce-ff66-417d-b987-37d321ef2580');\n",
              "          const dataTable =\n",
              "            await google.colab.kernel.invokeFunction('convertToInteractive',\n",
              "                                                     [key], {});\n",
              "          if (!dataTable) return;\n",
              "\n",
              "          const docLinkHtml = 'Like what you see? Visit the ' +\n",
              "            '<a target=\"_blank\" href=https://colab.research.google.com/notebooks/data_table.ipynb>data table notebook</a>'\n",
              "            + ' to learn more about interactive tables.';\n",
              "          element.innerHTML = '';\n",
              "          dataTable['output_type'] = 'display_data';\n",
              "          await google.colab.output.renderOutput(dataTable, element);\n",
              "          const docLink = document.createElement('div');\n",
              "          docLink.innerHTML = docLinkHtml;\n",
              "          element.appendChild(docLink);\n",
              "        }\n",
              "      </script>\n",
              "    </div>\n",
              "  </div>\n",
              "  "
            ]
          },
          "metadata": {},
          "execution_count": 9
        }
      ]
    },
    {
      "cell_type": "code",
      "source": [
        "f[f.duplicated()]"
      ],
      "metadata": {
        "colab": {
          "base_uri": "https://localhost:8080/",
          "height": 49
        },
        "id": "tKHPp1El6lx-",
        "outputId": "7baabbe3-e9e0-48c3-e098-664a06e4e538"
      },
      "id": "tKHPp1El6lx-",
      "execution_count": null,
      "outputs": [
        {
          "output_type": "execute_result",
          "data": {
            "text/plain": [
              "Empty DataFrame\n",
              "Columns: [org_name, org_uuid, long_description]\n",
              "Index: []"
            ],
            "text/html": [
              "\n",
              "  <div id=\"df-3b290717-b86d-44ec-bae0-c5435766377f\">\n",
              "    <div class=\"colab-df-container\">\n",
              "      <div>\n",
              "<style scoped>\n",
              "    .dataframe tbody tr th:only-of-type {\n",
              "        vertical-align: middle;\n",
              "    }\n",
              "\n",
              "    .dataframe tbody tr th {\n",
              "        vertical-align: top;\n",
              "    }\n",
              "\n",
              "    .dataframe thead th {\n",
              "        text-align: right;\n",
              "    }\n",
              "</style>\n",
              "<table border=\"1\" class=\"dataframe\">\n",
              "  <thead>\n",
              "    <tr style=\"text-align: right;\">\n",
              "      <th></th>\n",
              "      <th>org_name</th>\n",
              "      <th>org_uuid</th>\n",
              "      <th>long_description</th>\n",
              "    </tr>\n",
              "  </thead>\n",
              "  <tbody>\n",
              "  </tbody>\n",
              "</table>\n",
              "</div>\n",
              "      <button class=\"colab-df-convert\" onclick=\"convertToInteractive('df-3b290717-b86d-44ec-bae0-c5435766377f')\"\n",
              "              title=\"Convert this dataframe to an interactive table.\"\n",
              "              style=\"display:none;\">\n",
              "        \n",
              "  <svg xmlns=\"http://www.w3.org/2000/svg\" height=\"24px\"viewBox=\"0 0 24 24\"\n",
              "       width=\"24px\">\n",
              "    <path d=\"M0 0h24v24H0V0z\" fill=\"none\"/>\n",
              "    <path d=\"M18.56 5.44l.94 2.06.94-2.06 2.06-.94-2.06-.94-.94-2.06-.94 2.06-2.06.94zm-11 1L8.5 8.5l.94-2.06 2.06-.94-2.06-.94L8.5 2.5l-.94 2.06-2.06.94zm10 10l.94 2.06.94-2.06 2.06-.94-2.06-.94-.94-2.06-.94 2.06-2.06.94z\"/><path d=\"M17.41 7.96l-1.37-1.37c-.4-.4-.92-.59-1.43-.59-.52 0-1.04.2-1.43.59L10.3 9.45l-7.72 7.72c-.78.78-.78 2.05 0 2.83L4 21.41c.39.39.9.59 1.41.59.51 0 1.02-.2 1.41-.59l7.78-7.78 2.81-2.81c.8-.78.8-2.07 0-2.86zM5.41 20L4 18.59l7.72-7.72 1.47 1.35L5.41 20z\"/>\n",
              "  </svg>\n",
              "      </button>\n",
              "      \n",
              "  <style>\n",
              "    .colab-df-container {\n",
              "      display:flex;\n",
              "      flex-wrap:wrap;\n",
              "      gap: 12px;\n",
              "    }\n",
              "\n",
              "    .colab-df-convert {\n",
              "      background-color: #E8F0FE;\n",
              "      border: none;\n",
              "      border-radius: 50%;\n",
              "      cursor: pointer;\n",
              "      display: none;\n",
              "      fill: #1967D2;\n",
              "      height: 32px;\n",
              "      padding: 0 0 0 0;\n",
              "      width: 32px;\n",
              "    }\n",
              "\n",
              "    .colab-df-convert:hover {\n",
              "      background-color: #E2EBFA;\n",
              "      box-shadow: 0px 1px 2px rgba(60, 64, 67, 0.3), 0px 1px 3px 1px rgba(60, 64, 67, 0.15);\n",
              "      fill: #174EA6;\n",
              "    }\n",
              "\n",
              "    [theme=dark] .colab-df-convert {\n",
              "      background-color: #3B4455;\n",
              "      fill: #D2E3FC;\n",
              "    }\n",
              "\n",
              "    [theme=dark] .colab-df-convert:hover {\n",
              "      background-color: #434B5C;\n",
              "      box-shadow: 0px 1px 3px 1px rgba(0, 0, 0, 0.15);\n",
              "      filter: drop-shadow(0px 1px 2px rgba(0, 0, 0, 0.3));\n",
              "      fill: #FFFFFF;\n",
              "    }\n",
              "  </style>\n",
              "\n",
              "      <script>\n",
              "        const buttonEl =\n",
              "          document.querySelector('#df-3b290717-b86d-44ec-bae0-c5435766377f button.colab-df-convert');\n",
              "        buttonEl.style.display =\n",
              "          google.colab.kernel.accessAllowed ? 'block' : 'none';\n",
              "\n",
              "        async function convertToInteractive(key) {\n",
              "          const element = document.querySelector('#df-3b290717-b86d-44ec-bae0-c5435766377f');\n",
              "          const dataTable =\n",
              "            await google.colab.kernel.invokeFunction('convertToInteractive',\n",
              "                                                     [key], {});\n",
              "          if (!dataTable) return;\n",
              "\n",
              "          const docLinkHtml = 'Like what you see? Visit the ' +\n",
              "            '<a target=\"_blank\" href=https://colab.research.google.com/notebooks/data_table.ipynb>data table notebook</a>'\n",
              "            + ' to learn more about interactive tables.';\n",
              "          element.innerHTML = '';\n",
              "          dataTable['output_type'] = 'display_data';\n",
              "          await google.colab.output.renderOutput(dataTable, element);\n",
              "          const docLink = document.createElement('div');\n",
              "          docLink.innerHTML = docLinkHtml;\n",
              "          element.appendChild(docLink);\n",
              "        }\n",
              "      </script>\n",
              "    </div>\n",
              "  </div>\n",
              "  "
            ]
          },
          "metadata": {},
          "execution_count": 10
        }
      ]
    },
    {
      "cell_type": "markdown",
      "source": [
        "There are no duplicated entries in f_2."
      ],
      "metadata": {
        "id": "OCn7arFF6nY4"
      },
      "id": "OCn7arFF6nY4"
    },
    {
      "cell_type": "code",
      "source": [
        "f.isnull().values.any()"
      ],
      "metadata": {
        "colab": {
          "base_uri": "https://localhost:8080/"
        },
        "id": "86FV5dmu7B8w",
        "outputId": "412216ba-b573-4ff8-f534-e448256a552a"
      },
      "id": "86FV5dmu7B8w",
      "execution_count": null,
      "outputs": [
        {
          "output_type": "execute_result",
          "data": {
            "text/plain": [
              "False"
            ]
          },
          "metadata": {},
          "execution_count": 11
        }
      ]
    },
    {
      "cell_type": "markdown",
      "source": [
        "There are no missing values in f_2"
      ],
      "metadata": {
        "id": "O5XeTznk7Dx8"
      },
      "id": "O5XeTznk7Dx8"
    },
    {
      "cell_type": "code",
      "source": [
        "f.shape[0]"
      ],
      "metadata": {
        "colab": {
          "base_uri": "https://localhost:8080/"
        },
        "id": "QwwAVlOKO8Ue",
        "outputId": "1165193c-d7ae-4fb4-fd9e-697763a88c54"
      },
      "id": "QwwAVlOKO8Ue",
      "execution_count": null,
      "outputs": [
        {
          "output_type": "execute_result",
          "data": {
            "text/plain": [
              "3687"
            ]
          },
          "metadata": {},
          "execution_count": 12
        }
      ]
    },
    {
      "cell_type": "markdown",
      "source": [
        "There are 3687 unsuccessful entries"
      ],
      "metadata": {
        "id": "CQih5t8AO7GX"
      },
      "id": "CQih5t8AO7GX"
    },
    {
      "cell_type": "markdown",
      "source": [
        "# **Removing stopwords**"
      ],
      "metadata": {
        "id": "bensCobs8Rkr"
      },
      "id": "bensCobs8Rkr"
    },
    {
      "cell_type": "markdown",
      "source": [
        "These are common words in the language and they rarely provide useful information. The first word of the name of the startups are taken as stopwords as well since most of them are unique and carries not much information."
      ],
      "metadata": {
        "id": "7dwDpKpq8-oa"
      },
      "id": "7dwDpKpq8-oa"
    },
    {
      "cell_type": "code",
      "source": [
        "def remove_non_ascii(string):\n",
        "    return ''.join(char for char in string if ord(char) < 128)"
      ],
      "metadata": {
        "id": "PqI3UOMCjexY"
      },
      "id": "PqI3UOMCjexY",
      "execution_count": null,
      "outputs": []
    },
    {
      "cell_type": "code",
      "source": [
        "def remove_stopwords(sentence,df):\n",
        "    # List of stopwords\n",
        "    stopwords = [\"a\", \"about\", \"above\", \"after\", \"again\", \"against\", \"all\", \"am\", \"an\", \"and\", \"any\", \"are\", \"as\", \"at\", \"be\", \"because\", \"been\", \"before\", \"being\", \"below\", \"between\", \"both\", \"but\", \"by\", \"could\", \"did\", \"do\", \"does\", \"doing\", \"down\", \"during\", \"each\", \"few\", \"for\", \"from\", \"further\", \"had\", \"has\", \"have\", \"having\", \"he\", \"he'd\", \"he'll\", \"he's\", \"her\", \"here\", \"here's\", \"hers\", \"herself\", \"him\", \"himself\", \"his\", \"how\", \"how's\", \"i\", \"i'd\", \"i'll\", \"i'm\", \"i've\", \"if\", \"in\", \"into\", \"is\", \"it\", \"it's\", \"its\", \"itself\", \"let's\", \"me\", \"more\", \"most\", \"my\", \"myself\", \"nor\", \"of\", \"on\", \"once\", \"only\", \"or\", \"other\", \"ought\", \"our\", \"ours\", \"ourselves\", \"out\", \"over\", \"own\", \"same\", \"she\", \"she'd\", \"she'll\", \"she's\", \"should\", \"so\", \"some\", \"such\", \"than\", \"that\", \"that's\", \"the\", \"their\", \"theirs\", \"them\", \"themselves\", \"then\", \"there\", \"there's\", \"these\", \"they\", \"they'd\", \"they'll\", \"they're\", \"they've\", \"this\", \"those\", \"through\", \"to\", \"too\", \"under\", \"until\", \"up\", \"very\", \"was\", \"we\", \"we'd\", \"we'll\", \"we're\", \"we've\", \"were\", \"what\", \"what's\", \"when\", \"when's\", \"where\", \"where's\", \"which\", \"while\", \"who\", \"who's\", \"whom\", \"why\", \"why's\", \"with\", \"would\", \"you\", \"you'd\", \"you'll\", \"you're\", \"you've\", \"your\", \"yours\", \"yourself\", \"yourselves\" ]\n",
        "    # The first word of the name of the startups\n",
        "    namelist = df.org_name.str.lower().values.tolist()\n",
        "    for i in range(len(namelist)):\n",
        "      namelist[i]=namelist[i].split(' ')[0]\n",
        "    stopwords = stopwords + namelist\n",
        "    # Sentence converted to lowercase-only\n",
        "    sentence = sentence.lower()\n",
        "    sentence = remove_non_ascii(sentence)\n",
        "    newlist=sentence.split(' ')\n",
        "    sentence=[]\n",
        "    for j in newlist:\n",
        "        for i in stopwords:\n",
        "            if i==j:\n",
        "                sentence.append(i)\n",
        "    sentence = [item for item in newlist if item not in sentence]\n",
        "    sentence=' '.join(sentence)\n",
        "    return sentence"
      ],
      "metadata": {
        "id": "vy-Sia0t7ex_"
      },
      "id": "vy-Sia0t7ex_",
      "execution_count": null,
      "outputs": []
    },
    {
      "cell_type": "markdown",
      "source": [
        "Creating a new column (newD) for the new description with stopwords removed, and a column for the successful/fail (1/0) label"
      ],
      "metadata": {
        "id": "xuIjCAeNPhHl"
      },
      "id": "xuIjCAeNPhHl"
    },
    {
      "cell_type": "code",
      "source": [
        "s['newD']=s['long_description']\n",
        "f['newD']=f['long_description']\n",
        "u['newD']=u['long_description']\n",
        "s['label']=1\n",
        "f['label']=0"
      ],
      "metadata": {
        "id": "4isIHqS1Ryk4"
      },
      "id": "4isIHqS1Ryk4",
      "execution_count": null,
      "outputs": []
    },
    {
      "cell_type": "code",
      "source": [
        "for i in range(len(s)):\n",
        "  s['newD'][i]=remove_stopwords(s.iloc[i,2],s)\n",
        "for i in range(len(f)):\n",
        "  f['newD'][i]=remove_stopwords(f.iloc[i,2],f)\n",
        "for i in range(len(u)):\n",
        "  u['newD'][i]=remove_stopwords(u.iloc[i,2],u)"
      ],
      "metadata": {
        "id": "OlezOyXLkIEX"
      },
      "id": "OlezOyXLkIEX",
      "execution_count": null,
      "outputs": []
    },
    {
      "cell_type": "code",
      "source": [
        "s=s.drop(columns='long_description')\n",
        "f=f.drop(columns='long_description')\n",
        "u=u.drop(columns='long_description')"
      ],
      "metadata": {
        "id": "7m8M_JdMvxKn"
      },
      "id": "7m8M_JdMvxKn",
      "execution_count": null,
      "outputs": []
    },
    {
      "cell_type": "markdown",
      "source": [
        "shuffling the successful and failed startups long description with labels together"
      ],
      "metadata": {
        "id": "mLzhmSmuhcAP"
      },
      "id": "mLzhmSmuhcAP"
    },
    {
      "cell_type": "code",
      "source": [
        "total = pd.concat([s,f])\n",
        "total=total.sample(frac=1)\n",
        "total.head()"
      ],
      "metadata": {
        "colab": {
          "base_uri": "https://localhost:8080/",
          "height": 206
        },
        "id": "kuBJYYDZTFtt",
        "outputId": "879fe820-1ac2-4124-86d5-4eaa2a6d7d86"
      },
      "id": "kuBJYYDZTFtt",
      "execution_count": null,
      "outputs": [
        {
          "output_type": "execute_result",
          "data": {
            "text/plain": [
              "             org_name                              org_uuid  \\\n",
              "679   ComfTech s.r.l.  4a9916ff-00e5-bc70-df78-b8de37a86296   \n",
              "1155         Meatable  21d3f0e3-c5a6-40a5-a392-5b505f7d3389   \n",
              "576           Einride  fc4f7ed5-f7c8-34ef-3a8c-42e5d90b4ffb   \n",
              "1999              NPX  ade02cf3-1f57-4fb5-a788-8d0c5d1afbf7   \n",
              "1603        Kloudless  c62134ad-7944-a775-14d5-b0f76c28eebc   \n",
              "\n",
              "                                                   newD  label  \n",
              "679   design produce sensing garments easy dress use...      0  \n",
              "1155  food production company produces real guilt-fr...      1  \n",
              "576   leading freight technology company providing d...      1  \n",
              "1999  company transforms financed nonprofit sector. ...      0  \n",
              "1603  abstracts away differences apis without compro...      0  "
            ],
            "text/html": [
              "\n",
              "  <div id=\"df-fa5047d7-94a8-4f21-934b-4969ff889112\">\n",
              "    <div class=\"colab-df-container\">\n",
              "      <div>\n",
              "<style scoped>\n",
              "    .dataframe tbody tr th:only-of-type {\n",
              "        vertical-align: middle;\n",
              "    }\n",
              "\n",
              "    .dataframe tbody tr th {\n",
              "        vertical-align: top;\n",
              "    }\n",
              "\n",
              "    .dataframe thead th {\n",
              "        text-align: right;\n",
              "    }\n",
              "</style>\n",
              "<table border=\"1\" class=\"dataframe\">\n",
              "  <thead>\n",
              "    <tr style=\"text-align: right;\">\n",
              "      <th></th>\n",
              "      <th>org_name</th>\n",
              "      <th>org_uuid</th>\n",
              "      <th>newD</th>\n",
              "      <th>label</th>\n",
              "    </tr>\n",
              "  </thead>\n",
              "  <tbody>\n",
              "    <tr>\n",
              "      <th>679</th>\n",
              "      <td>ComfTech s.r.l.</td>\n",
              "      <td>4a9916ff-00e5-bc70-df78-b8de37a86296</td>\n",
              "      <td>design produce sensing garments easy dress use...</td>\n",
              "      <td>0</td>\n",
              "    </tr>\n",
              "    <tr>\n",
              "      <th>1155</th>\n",
              "      <td>Meatable</td>\n",
              "      <td>21d3f0e3-c5a6-40a5-a392-5b505f7d3389</td>\n",
              "      <td>food production company produces real guilt-fr...</td>\n",
              "      <td>1</td>\n",
              "    </tr>\n",
              "    <tr>\n",
              "      <th>576</th>\n",
              "      <td>Einride</td>\n",
              "      <td>fc4f7ed5-f7c8-34ef-3a8c-42e5d90b4ffb</td>\n",
              "      <td>leading freight technology company providing d...</td>\n",
              "      <td>1</td>\n",
              "    </tr>\n",
              "    <tr>\n",
              "      <th>1999</th>\n",
              "      <td>NPX</td>\n",
              "      <td>ade02cf3-1f57-4fb5-a788-8d0c5d1afbf7</td>\n",
              "      <td>company transforms financed nonprofit sector. ...</td>\n",
              "      <td>0</td>\n",
              "    </tr>\n",
              "    <tr>\n",
              "      <th>1603</th>\n",
              "      <td>Kloudless</td>\n",
              "      <td>c62134ad-7944-a775-14d5-b0f76c28eebc</td>\n",
              "      <td>abstracts away differences apis without compro...</td>\n",
              "      <td>0</td>\n",
              "    </tr>\n",
              "  </tbody>\n",
              "</table>\n",
              "</div>\n",
              "      <button class=\"colab-df-convert\" onclick=\"convertToInteractive('df-fa5047d7-94a8-4f21-934b-4969ff889112')\"\n",
              "              title=\"Convert this dataframe to an interactive table.\"\n",
              "              style=\"display:none;\">\n",
              "        \n",
              "  <svg xmlns=\"http://www.w3.org/2000/svg\" height=\"24px\"viewBox=\"0 0 24 24\"\n",
              "       width=\"24px\">\n",
              "    <path d=\"M0 0h24v24H0V0z\" fill=\"none\"/>\n",
              "    <path d=\"M18.56 5.44l.94 2.06.94-2.06 2.06-.94-2.06-.94-.94-2.06-.94 2.06-2.06.94zm-11 1L8.5 8.5l.94-2.06 2.06-.94-2.06-.94L8.5 2.5l-.94 2.06-2.06.94zm10 10l.94 2.06.94-2.06 2.06-.94-2.06-.94-.94-2.06-.94 2.06-2.06.94z\"/><path d=\"M17.41 7.96l-1.37-1.37c-.4-.4-.92-.59-1.43-.59-.52 0-1.04.2-1.43.59L10.3 9.45l-7.72 7.72c-.78.78-.78 2.05 0 2.83L4 21.41c.39.39.9.59 1.41.59.51 0 1.02-.2 1.41-.59l7.78-7.78 2.81-2.81c.8-.78.8-2.07 0-2.86zM5.41 20L4 18.59l7.72-7.72 1.47 1.35L5.41 20z\"/>\n",
              "  </svg>\n",
              "      </button>\n",
              "      \n",
              "  <style>\n",
              "    .colab-df-container {\n",
              "      display:flex;\n",
              "      flex-wrap:wrap;\n",
              "      gap: 12px;\n",
              "    }\n",
              "\n",
              "    .colab-df-convert {\n",
              "      background-color: #E8F0FE;\n",
              "      border: none;\n",
              "      border-radius: 50%;\n",
              "      cursor: pointer;\n",
              "      display: none;\n",
              "      fill: #1967D2;\n",
              "      height: 32px;\n",
              "      padding: 0 0 0 0;\n",
              "      width: 32px;\n",
              "    }\n",
              "\n",
              "    .colab-df-convert:hover {\n",
              "      background-color: #E2EBFA;\n",
              "      box-shadow: 0px 1px 2px rgba(60, 64, 67, 0.3), 0px 1px 3px 1px rgba(60, 64, 67, 0.15);\n",
              "      fill: #174EA6;\n",
              "    }\n",
              "\n",
              "    [theme=dark] .colab-df-convert {\n",
              "      background-color: #3B4455;\n",
              "      fill: #D2E3FC;\n",
              "    }\n",
              "\n",
              "    [theme=dark] .colab-df-convert:hover {\n",
              "      background-color: #434B5C;\n",
              "      box-shadow: 0px 1px 3px 1px rgba(0, 0, 0, 0.15);\n",
              "      filter: drop-shadow(0px 1px 2px rgba(0, 0, 0, 0.3));\n",
              "      fill: #FFFFFF;\n",
              "    }\n",
              "  </style>\n",
              "\n",
              "      <script>\n",
              "        const buttonEl =\n",
              "          document.querySelector('#df-fa5047d7-94a8-4f21-934b-4969ff889112 button.colab-df-convert');\n",
              "        buttonEl.style.display =\n",
              "          google.colab.kernel.accessAllowed ? 'block' : 'none';\n",
              "\n",
              "        async function convertToInteractive(key) {\n",
              "          const element = document.querySelector('#df-fa5047d7-94a8-4f21-934b-4969ff889112');\n",
              "          const dataTable =\n",
              "            await google.colab.kernel.invokeFunction('convertToInteractive',\n",
              "                                                     [key], {});\n",
              "          if (!dataTable) return;\n",
              "\n",
              "          const docLinkHtml = 'Like what you see? Visit the ' +\n",
              "            '<a target=\"_blank\" href=https://colab.research.google.com/notebooks/data_table.ipynb>data table notebook</a>'\n",
              "            + ' to learn more about interactive tables.';\n",
              "          element.innerHTML = '';\n",
              "          dataTable['output_type'] = 'display_data';\n",
              "          await google.colab.output.renderOutput(dataTable, element);\n",
              "          const docLink = document.createElement('div');\n",
              "          docLink.innerHTML = docLinkHtml;\n",
              "          element.appendChild(docLink);\n",
              "        }\n",
              "      </script>\n",
              "    </div>\n",
              "  </div>\n",
              "  "
            ]
          },
          "metadata": {},
          "execution_count": 19
        }
      ]
    },
    {
      "cell_type": "markdown",
      "source": [
        "Calculating and plotting the number of words for each modified description"
      ],
      "metadata": {
        "id": "WmcvZaxcxH5N"
      },
      "id": "WmcvZaxcxH5N"
    },
    {
      "cell_type": "code",
      "source": [
        "s['wordcount']=0\n",
        "f['wordcount']=0\n",
        "u['wordcount']=0\n",
        "for i in range(len(s)):\n",
        "  s['wordcount'][i]=len(s['newD'][i].split(' '))\n",
        "for i in range(len(f)):\n",
        "  f['wordcount'][i]=len(f['newD'][i].split(' '))\n",
        "for i in range(len(u)):\n",
        "  u['wordcount'][i]=len(u['newD'][i].split(' '))"
      ],
      "metadata": {
        "id": "qos4sF8xwUJn"
      },
      "id": "qos4sF8xwUJn",
      "execution_count": null,
      "outputs": []
    },
    {
      "cell_type": "code",
      "source": [
        "sns.displot(s['wordcount'], kind='kde')\n",
        "plt.show()"
      ],
      "metadata": {
        "colab": {
          "base_uri": "https://localhost:8080/",
          "height": 369
        },
        "id": "2JngAM5vRDom",
        "outputId": "cf23ffb9-2acb-4166-e636-997f90314d46"
      },
      "id": "2JngAM5vRDom",
      "execution_count": null,
      "outputs": [
        {
          "output_type": "display_data",
          "data": {
            "text/plain": [
              "<Figure size 360x360 with 1 Axes>"
            ],
            "image/png": "[encoded data removed]"
          },
          "metadata": {
            "needs_background": "light"
          }
        }
      ]
    },
    {
      "cell_type": "code",
      "source": [
        "sns.displot(f['wordcount'], kind='kde')\n",
        "plt.show()"
      ],
      "metadata": {
        "colab": {
          "base_uri": "https://localhost:8080/",
          "height": 369
        },
        "id": "oX-Jr2o1Rn1T",
        "outputId": "f8697f76-54e6-426b-8a8d-2227bb97254c"
      },
      "id": "oX-Jr2o1Rn1T",
      "execution_count": null,
      "outputs": [
        {
          "output_type": "display_data",
          "data": {
            "text/plain": [
              "<Figure size 360x360 with 1 Axes>"
            ],
            "image/png": "[encoded data removed]"
          },
          "metadata": {
            "needs_background": "light"
          }
        }
      ]
    },
    {
      "cell_type": "code",
      "source": [
        "sns.displot(u['wordcount'], kind='kde')\n",
        "plt.show()"
      ],
      "metadata": {
        "colab": {
          "base_uri": "https://localhost:8080/",
          "height": 369
        },
        "id": "x535Dv9Mj4WB",
        "outputId": "983b8d47-769a-4e53-af79-a180a7a48dd8"
      },
      "id": "x535Dv9Mj4WB",
      "execution_count": null,
      "outputs": [
        {
          "output_type": "display_data",
          "data": {
            "text/plain": [
              "<Figure size 360x360 with 1 Axes>"
            ],
            "image/png": "[encoded data removed]"
          },
          "metadata": {
            "needs_background": "light"
          }
        }
      ]
    },
    {
      "cell_type": "markdown",
      "source": [
        "A visual scan tells us most startups have description fewer than 120 words, set MAXLEN=85"
      ],
      "metadata": {
        "id": "drj4CxnQSPP-"
      },
      "id": "drj4CxnQSPP-"
    },
    {
      "cell_type": "markdown",
      "source": [
        "## Defining useful global variables\n",
        "[tf.keras.preprocessing.text.Tokenizer - reference link](https://www.tensorflow.org/api_docs/python/tf/keras/preprocessing/text/Tokenizer)\n",
        "\n",
        "Define some global variables that will be used in the unit tests \n",
        "\n",
        "- `NUM_WORDS`: The maximum number of words to keep, based on word frequency. Only the most common num_words-1 words will be kept.\n",
        "\n",
        "- `EMBEDDING_DIM`: Dimension of the dense embedding, will be used in the embedding layer of the model.\n",
        "\n",
        "\n",
        "- `MAXLEN`: Maximum length of all sequences.\n",
        "\n",
        "\n",
        "- `PADDING`: Padding strategy (pad either before or after each sequence.). \n",
        "\n",
        "\n",
        "- `OOV_TOKEN`: Token to replace out-of-vocabulary words during text_to_sequence calls. Defaults to \"\\<OOV>\".\n",
        "\n",
        "    \n",
        "- `TRAINING_SPLIT`: Proportion of data used for training."
      ],
      "metadata": {
        "id": "blSbxYJIZk93"
      },
      "id": "blSbxYJIZk93"
    },
    {
      "cell_type": "code",
      "source": [
        "NUM_WORDS = 10000\n",
        "EMBEDDING_DIM = 8\n",
        "MAXLEN = 85\n",
        "PADDING = 'post'\n",
        "OOV_TOKEN = \"<OOV>\"\n",
        "TRAINING_SPLIT = .7"
      ],
      "metadata": {
        "id": "7wy8iVFtVNPd"
      },
      "id": "7wy8iVFtVNPd",
      "execution_count": null,
      "outputs": []
    },
    {
      "cell_type": "markdown",
      "source": [
        "## Training - Validation Split\n",
        "\n",
        "Split the lists into training and validation sentences"
      ],
      "metadata": {
        "id": "E96Gj7EMZvrI"
      },
      "id": "E96Gj7EMZvrI"
    },
    {
      "cell_type": "code",
      "source": [
        "def train_val_split(sentences, labels, training_split): \n",
        "  train_size = len(sentences)\n",
        "  train_sentences = sentences[0:round(training_split*train_size)]\n",
        "  train_labels = labels[0:round(training_split*train_size)]\n",
        "  validation_sentences = sentences[round(training_split*train_size):]\n",
        "  validation_labels = labels[round(training_split*train_size):]\n",
        "  return train_sentences, validation_sentences, train_labels, validation_labels"
      ],
      "metadata": {
        "id": "1lNiU2xKZ2YV"
      },
      "id": "1lNiU2xKZ2YV",
      "execution_count": null,
      "outputs": []
    },
    {
      "cell_type": "code",
      "source": [
        "train_sentences, val_sentences, train_labels, val_labels = train_val_split(total.newD, total.label, TRAINING_SPLIT)"
      ],
      "metadata": {
        "id": "aeQkyB4GaP6S"
      },
      "id": "aeQkyB4GaP6S",
      "execution_count": null,
      "outputs": []
    },
    {
      "cell_type": "markdown",
      "source": [
        "## Tokenization - Sequences and padding"
      ],
      "metadata": {
        "id": "0c5SRBpVTAQv"
      },
      "id": "0c5SRBpVTAQv"
    },
    {
      "cell_type": "code",
      "source": [
        "def fit_tokenizer(train_sentences, num_words, oov_token):\n",
        "  # Instantiate the Tokenizer class, passing in the correct values for num_words and oov_token\n",
        "  tokenizer = tf.keras.preprocessing.text.Tokenizer(num_words = num_words, oov_token=oov_token)\n",
        "  # Fit the tokenizer to the training sentences\n",
        "  tokenizer.fit_on_texts(train_sentences) \n",
        "  return tokenizer"
      ],
      "metadata": {
        "id": "y5b-ifuxSpzN"
      },
      "id": "y5b-ifuxSpzN",
      "execution_count": null,
      "outputs": []
    },
    {
      "cell_type": "code",
      "source": [
        "tokenizer = fit_tokenizer(train_sentences, NUM_WORDS, OOV_TOKEN)\n",
        "word_index = tokenizer.word_index\n",
        "print(f\"Vocabulary contains {len(word_index)} words\\n\")\n",
        "print(\"<OOV> token included in vocabulary\" if \"<OOV>\" in word_index else \"<OOV> token NOT included in vocabulary\")"
      ],
      "metadata": {
        "colab": {
          "base_uri": "https://localhost:8080/"
        },
        "id": "YMHNYJ3si2et",
        "outputId": "335fa684-b78d-4151-fa7d-94b1ec5407ce"
      },
      "id": "YMHNYJ3si2et",
      "execution_count": null,
      "outputs": [
        {
          "output_type": "stream",
          "name": "stdout",
          "text": [
            "Vocabulary contains 20709 words\n",
            "\n",
            "<OOV> token included in vocabulary\n"
          ]
        }
      ]
    },
    {
      "cell_type": "markdown",
      "source": [
        "Convert each text data point into its padded sequence representation"
      ],
      "metadata": {
        "id": "Z8hbvjAzjN4u"
      },
      "id": "Z8hbvjAzjN4u"
    },
    {
      "cell_type": "code",
      "source": [
        "def seq_and_pad(sentences, tokenizer, padding, maxlen):   \n",
        "  # Convert sentences to sequences\n",
        "  sequences = tokenizer.texts_to_sequences(sentences)\n",
        "  # Pad the sequences using the correct padding and maxlen\n",
        "  padded_sequences = tf.keras.utils.pad_sequences(sequences, maxlen=maxlen, padding=padding)\n",
        "  return padded_sequences"
      ],
      "metadata": {
        "id": "lTHfvn9njOs6"
      },
      "id": "lTHfvn9njOs6",
      "execution_count": null,
      "outputs": []
    },
    {
      "cell_type": "code",
      "source": [
        "train_padded_seq = seq_and_pad(train_sentences, tokenizer, PADDING, MAXLEN)\n",
        "val_padded_seq = seq_and_pad(val_sentences, tokenizer, PADDING, MAXLEN)\n",
        "unknown_padded_seq = seq_and_pad(u['newD'], tokenizer, PADDING, MAXLEN)\n",
        "print(f\"Padded training sequences have shape: {train_padded_seq.shape}\\n\")\n",
        "print(f\"Padded validation sequences have shape: {val_padded_seq.shape}\\n\")\n",
        "print(f\"Padded unknown sequences have shape: {unknown_padded_seq.shape}\")"
      ],
      "metadata": {
        "colab": {
          "base_uri": "https://localhost:8080/"
        },
        "id": "0vFZoa96jeyU",
        "outputId": "5069b887-ef9a-494f-d298-e589bbfa577c"
      },
      "id": "0vFZoa96jeyU",
      "execution_count": null,
      "outputs": [
        {
          "output_type": "stream",
          "name": "stdout",
          "text": [
            "Padded training sequences have shape: (4090, 85)\n",
            "\n",
            "Padded validation sequences have shape: (1753, 85)\n",
            "\n",
            "Padded unknown sequences have shape: (29, 85)\n"
          ]
        }
      ]
    },
    {
      "cell_type": "markdown",
      "source": [
        "A neural network with three layers"
      ],
      "metadata": {
        "id": "hR6A-QbpLViJ"
      },
      "id": "hR6A-QbpLViJ"
    },
    {
      "cell_type": "code",
      "source": [
        "def create_model(num_words, embedding_dim, maxlen):\n",
        "  tf.random.set_seed(123)\n",
        "  model = tf.keras.Sequential([ \n",
        "        tf.keras.layers.Embedding(num_words, embedding_dim,input_length=maxlen),\n",
        "    tf.keras.layers.GlobalAveragePooling1D(),\n",
        "    tf.keras.layers.Dense(163, activation='softmax'),\n",
        "    tf.keras.layers.Dense(57, activation='sigmoid'),\n",
        "    tf.keras.layers.Dense(17),\n",
        "    tf.keras.layers.Dense(2, activation='softmax')])\n",
        "    \n",
        "  model.compile(loss=\"sparse_categorical_crossentropy\",\n",
        "                  optimizer='adam',\n",
        "                  metrics=['accuracy']) \n",
        "  return model"
      ],
      "metadata": {
        "id": "yuQp11hRkfwn"
      },
      "id": "yuQp11hRkfwn",
      "execution_count": null,
      "outputs": []
    },
    {
      "cell_type": "code",
      "source": [
        "model = create_model(NUM_WORDS, EMBEDDING_DIM, MAXLEN)\n",
        "history = model.fit(train_padded_seq, train_labels, epochs=20, validation_data=(val_padded_seq, val_labels))"
      ],
      "metadata": {
        "id": "Kyf6t_zVkn38"
      },
      "id": "Kyf6t_zVkn38",
      "execution_count": null,
      "outputs": []
    },
    {
      "cell_type": "code",
      "source": [
        "model.summary()"
      ],
      "metadata": {
        "colab": {
          "base_uri": "https://localhost:8080/"
        },
        "id": "FBT9TCQtr26v",
        "outputId": "638e621a-9522-4a9e-b028-b7e8eb870b33"
      },
      "id": "FBT9TCQtr26v",
      "execution_count": null,
      "outputs": [
        {
          "output_type": "stream",
          "name": "stdout",
          "text": [
            "Model: \"sequential\"\n",
            "_________________________________________________________________\n",
            " Layer (type)                Output Shape              Param #   \n",
            "=================================================================\n",
            " embedding (Embedding)       (None, 100, 8)            80000     \n",
            "                                                                 \n",
            " global_average_pooling1d (G  (None, 8)                0         \n",
            " lobalAveragePooling1D)                                          \n",
            "                                                                 \n",
            " dense (Dense)               (None, 163)               1467      \n",
            "                                                                 \n",
            " dense_1 (Dense)             (None, 57)                9348      \n",
            "                                                                 \n",
            " dense_2 (Dense)             (None, 17)                986       \n",
            "                                                                 \n",
            " dense_3 (Dense)             (None, 2)                 36        \n",
            "                                                                 \n",
            "=================================================================\n",
            "Total params: 91,837\n",
            "Trainable params: 91,837\n",
            "Non-trainable params: 0\n",
            "_________________________________________________________________\n"
          ]
        }
      ]
    },
    {
      "cell_type": "code",
      "source": [
        "test_pred = model.predict(val_padded_seq)\n",
        "test_pred = np.argmax(test_pred, axis=-1)\n",
        "\n",
        "# Printing the classification report\n",
        "print(classification_report(val_labels, test_pred))\n",
        "\n",
        "# Plotting the heatmap using confusion matrix\n",
        "cm = confusion_matrix(val_labels, test_pred)\n",
        "plt.figure(figsize=(8,5))\n",
        "sns.heatmap(cm, annot=True,  fmt='.0f')\n",
        "plt.ylabel('Actual')\n",
        "plt.xlabel('Predicted')\n",
        "plt.show()"
      ],
      "metadata": {
        "colab": {
          "base_uri": "https://localhost:8080/",
          "height": 508
        },
        "id": "BXGhgfycW-_J",
        "outputId": "ce0166a9-1f9b-4b35-b807-feacb9c45b5d"
      },
      "id": "BXGhgfycW-_J",
      "execution_count": null,
      "outputs": [
        {
          "output_type": "stream",
          "name": "stdout",
          "text": [
            "55/55 [==============================] - 0s 1ms/step\n",
            "              precision    recall  f1-score   support\n",
            "\n",
            "           0       0.89      0.94      0.91      1098\n",
            "           1       0.89      0.80      0.85       655\n",
            "\n",
            "    accuracy                           0.89      1753\n",
            "   macro avg       0.89      0.87      0.88      1753\n",
            "weighted avg       0.89      0.89      0.89      1753\n",
            "\n"
          ]
        },
        {
          "output_type": "display_data",
          "data": {
            "text/plain": [
              "<Figure size 576x360 with 2 Axes>"
            ],
            "image/png": "[encoded data removed]"
          },
          "metadata": {
            "needs_background": "light"
          }
        }
      ]
    },
    {
      "cell_type": "markdown",
      "source": [
        "For this 0.7 training/validation split trial, the model returns an accuracy of 89%, a precision of 80% and a recall of 89%. A zero rate classifier will classify all startups into 0, and thus a baseline accuracy of 63%."
      ],
      "metadata": {
        "id": "xTBn8BqtLZjl"
      },
      "id": "xTBn8BqtLZjl"
    },
    {
      "cell_type": "code",
      "source": [
        "def plot_graphs(history, metric):\n",
        "    plt.plot(history.history[metric])\n",
        "    plt.plot(history.history[f'val_{metric}'])\n",
        "    plt.xlabel(\"Epochs\")\n",
        "    plt.ylabel(metric)\n",
        "    plt.legend([metric, f'val_{metric}'])\n",
        "    plt.show()\n",
        "    \n",
        "plot_graphs(history, \"accuracy\")\n",
        "plot_graphs(history, \"loss\")"
      ],
      "metadata": {
        "colab": {
          "base_uri": "https://localhost:8080/",
          "height": 544
        },
        "id": "z7sjN1d-k_iN",
        "outputId": "1f90dde9-1268-4e74-ea2f-942d1acdee04"
      },
      "id": "z7sjN1d-k_iN",
      "execution_count": null,
      "outputs": [
        {
          "output_type": "display_data",
          "data": {
            "text/plain": [
              "<Figure size 432x288 with 1 Axes>"
            ],
            "image/png": "[encoded data removed]"
          },
          "metadata": {
            "needs_background": "light"
          }
        },
        {
          "output_type": "display_data",
          "data": {
            "text/plain": [
              "<Figure size 432x288 with 1 Axes>"
            ],
            "image/png": "[encoded data removed]"
          },
          "metadata": {
            "needs_background": "light"
          }
        }
      ]
    },
    {
      "cell_type": "markdown",
      "source": [
        "The model is overfitting after about 9 epochs."
      ],
      "metadata": {
        "id": "KKqXJK86Nv2R"
      },
      "id": "KKqXJK86Nv2R"
    },
    {
      "cell_type": "markdown",
      "source": [
        "**Baseline model where the outcome is either 1 or 0 randomly for comparison**"
      ],
      "metadata": {
        "id": "1f5_T7-ry3c8"
      },
      "id": "1f5_T7-ry3c8"
    },
    {
      "cell_type": "code",
      "source": [
        "test_pred = np.random.randint(0,2,len(val_padded_seq))\n",
        "\n",
        "# Printing the classification report\n",
        "print(classification_report(val_labels, test_pred))\n",
        "\n",
        "# Plotting the heatmap using confusion matrix\n",
        "cm = confusion_matrix(val_labels, test_pred)\n",
        "plt.figure(figsize=(8,5))\n",
        "sns.heatmap(cm, annot=True,  fmt='.0f')\n",
        "plt.ylabel('Actual')\n",
        "plt.xlabel('Predicted')\n",
        "plt.show()"
      ],
      "metadata": {
        "colab": {
          "base_uri": "https://localhost:8080/",
          "height": 490
        },
        "id": "N3NOViI0ECSZ",
        "outputId": "3970e82b-f3fc-447b-9ef3-68acc034b0b2"
      },
      "id": "N3NOViI0ECSZ",
      "execution_count": null,
      "outputs": [
        {
          "output_type": "stream",
          "name": "stdout",
          "text": [
            "              precision    recall  f1-score   support\n",
            "\n",
            "           0       0.62      0.48      0.54      1098\n",
            "           1       0.37      0.51      0.43       655\n",
            "\n",
            "    accuracy                           0.49      1753\n",
            "   macro avg       0.50      0.49      0.49      1753\n",
            "weighted avg       0.53      0.49      0.50      1753\n",
            "\n"
          ]
        },
        {
          "output_type": "display_data",
          "data": {
            "text/plain": [
              "<Figure size 576x360 with 2 Axes>"
            ],
            "image/png": "[encoded data removed]"
          },
          "metadata": {
            "needs_background": "light"
          }
        }
      ]
    },
    {
      "cell_type": "markdown",
      "source": [
        "The accuracy is 49%, the precision is 37% and the recall is 51%"
      ],
      "metadata": {
        "id": "74IybhY28c48"
      },
      "id": "74IybhY28c48"
    }
  ],
  "metadata": {
    "kernelspec": {
      "display_name": "Python 3 (ipykernel)",
      "language": "python",
      "name": "python3"
    },
    "language_info": {
      "codemirror_mode": {
        "name": "ipython",
        "version": 3
      },
      "file_extension": ".py",
      "mimetype": "text/x-python",
      "name": "python",
      "nbconvert_exporter": "python",
      "pygments_lexer": "ipython3",
      "version": "3.9.12"
    },
    "colab": {
      "provenance": []
    }
  },
  "nbformat": 4,
  "nbformat_minor": 5
}